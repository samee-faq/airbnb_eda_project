{
  "nbformat": 4,
  "nbformat_minor": 0,
  "metadata": {
    "colab": {
      "provenance": [],
      "collapsed_sections": [
        "vncDsAP0Gaoa",
        "FJNUwmbgGyua",
        "yQaldy8SH6Dl",
        "PH-0ReGfmX4f",
        "mDgbUHAGgjLW",
        "O_i_v8NEhb9l",
        "HhfV-JJviCcP",
        "Y3lxredqlCYt",
        "3RnN4peoiCZX",
        "x71ZqKXriCWQ",
        "7hBIi_osiCS2",
        "JlHwYmJAmNHm",
        "35m5QtbWiB9F",
        "PoPl-ycgm1ru",
        "H0kj-8xxnORC",
        "nA9Y7ga8ng1Z",
        "PBTbrJXOngz2",
        "u3PMJOP6ngxN",
        "dauF4eBmngu3",
        "bKJF3rekwFvQ",
        "MSa1f5Uengrz",
        "GF8Ens_Soomf",
        "0wOQAZs5pc--",
        "K5QZ13OEpz2H",
        "lQ7QKXXCp7Bj",
        "448CDAPjqfQr",
        "KSlN3yHqYklG",
        "t6dVpIINYklI",
        "ijmpgYnKYklI",
        "-JiQyfWJYklI",
        "EM7whBJCYoAo",
        "fge-S5ZAYoAp",
        "85gYPyotYoAp",
        "RoGjAbkUYoAp",
        "4Of9eVA-YrdM",
        "iky9q4vBYrdO",
        "F6T5p64dYrdO",
        "y-Ehk30pYrdP",
        "bamQiAODYuh1",
        "QHF8YVU7Yuh3",
        "GwzvFGzlYuh3",
        "qYpmQ266Yuh3",
        "OH-pJp9IphqM",
        "bbFf2-_FphqN",
        "_ouA3fa0phqN",
        "Seke61FWphqN",
        "PIIx-8_IphqN",
        "t27r6nlMphqO",
        "r2jJGEOYphqO",
        "b0JNsNcRphqO",
        "BZR9WyysphqO",
        "jj7wYXLtphqO",
        "eZrbJ2SmphqO",
        "rFu4xreNphqO",
        "YJ55k-q6phqO",
        "gCFgpxoyphqP",
        "OVtJsKN_phqQ",
        "lssrdh5qphqQ",
        "U2RJ9gkRphqQ",
        "1M8mcRywphqQ",
        "tgIPom80phqQ",
        "JMzcOPDDphqR",
        "x-EpHcCOp1ci",
        "X_VqEhTip1ck",
        "8zGJKyg5p1ck",
        "PVzmfK_Ep1ck",
        "n3dbpmDWp1ck",
        "ylSl6qgtp1ck",
        "ZWILFDl5p1ck",
        "M7G43BXep1ck",
        "Ag9LCva-p1cl",
        "E6MkPsBcp1cl",
        "2cELzS2fp1cl",
        "3MPXvC8up1cl",
        "NC_X3p0fY2L0",
        "UV0SzAkaZNRQ",
        "YPEH6qLeZNRQ",
        "q29F0dvdveiT",
        "EXh0U9oCveiU",
        "22aHeOlLveiV",
        "JcMwzZxoAimU",
        "8G2x9gOozGDZ",
        "gCX9965dhzqZ",
        "gIfDvo9L0UH2"
      ],
      "include_colab_link": true
    },
    "kernelspec": {
      "name": "python3",
      "display_name": "Python 3"
    },
    "language_info": {
      "name": "python"
    },
    "gpuClass": "standard"
  },
  "cells": [
    {
      "cell_type": "markdown",
      "metadata": {
        "id": "view-in-github",
        "colab_type": "text"
      },
      "source": [
        "<a href=\"https://colab.research.google.com/github/samee-faq/airbnb_eda_project/blob/main/Sameera's_Airbnb_Bookings_Analysis_Capstone_Project_EDA.ipynb\" target=\"_parent\"><img src=\"https://colab.research.google.com/assets/colab-badge.svg\" alt=\"Open In Colab\"/></a>"
      ]
    },
    {
      "cell_type": "markdown",
      "source": [
        "# **Project Name**    - Airbnb Bookings Analysis \n",
        "\n"
      ],
      "metadata": {
        "id": "vncDsAP0Gaoa"
      }
    },
    {
      "cell_type": "markdown",
      "source": [
        "##### **Project Type**    - EDA/Regression/Classification/Unsupervised\n",
        "##### **Contribution**    - Individual\n",
        "##### **Team Member 1 -    Sameera Farooqui\n",
        "##### **Team Member 2 -**\n",
        "##### **Team Member 3 -**\n",
        "##### **Team Member 4 -**"
      ],
      "metadata": {
        "id": "beRrZCGUAJYm"
      }
    },
    {
      "cell_type": "code",
      "source": [
        "from google.colab import drive\n",
        "drive.mount('/content/drive')"
      ],
      "metadata": {
        "id": "3ma-wIsA861L",
        "colab": {
          "base_uri": "https://localhost:8080/"
        },
        "outputId": "a7bc983f-874d-4b2b-f3fd-fb7f215e099d"
      },
      "execution_count": 3,
      "outputs": [
        {
          "output_type": "stream",
          "name": "stdout",
          "text": [
            "Mounted at /content/drive\n"
          ]
        }
      ]
    },
    {
      "cell_type": "markdown",
      "source": [
        "# **Project Summary -**  \n",
        "\n",
        "  **What Is Airbnb?**\n",
        "\n",
        "![Airbnb, Why the New Logo_ _ Entrepreneur.jpg](data:image/jpeg;base64,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)\n",
        "\n",
        "Airbnb is one of the world’s largest marketplaces for unique, authentic places to stay and things to do, offering over 7 million accommodations and 50,000 handcrafted activities, all powered by local hosts. An economic empowerment engine, Airbnb has helped millions of hospitality entrepreneurs monetize their spaces and their passions while keeping the financial benefits of tourism in their own communities. With more than three quarters of a billion guest arrivals to date, and accessible in 62 languages across 220+ countries and regions, Airbnb promotes people-to-people connection, community and trust around the world.\n",
        "                                                      \n",
        "Airbnb has revolutionized the hospitality industry. Prior to 2008, travelers would have likely booked a hotel or hostel for their trip to another town. Nowadays, many of these same people are opting for Airbnb.\n",
        "\n",
        "Since 2008, guests and hosts have used Airbnb to expand on traveling possibilities and present a more unique, personalized way of experiencing the world. Nowadays, Airbnb became one of a kind service that is used by the whole world.\n",
        "\n",
        "\n",
        " Data analysts become a crucial factor for the company that provided millions of listings through Airbnb. These listings generate a lot of data that can be analyzed and used for security, business decisions, understanding of customers’ and providers’ behavior on the platform, implementing innovative additional services, guiding marketing initiatives, and much more.\n",
        "\n",
        "\n",
        "For this project we are analyzing Airbnb’s this Dataset.This contains around 49,000 observation with 16 column in it and its a mix of categorical and numeric values.Our main objective is to find out the key metrics that influence the listing of properties on the platform. For this, we will explore and visualize the dataset from Airbnb using basic exploratory data analysis (EDA) techniques. We have found out the distribution of every Airbnb listing based on their location, including their price range, room type, listing name, and other related factors. We have analyzed this dataset from different angles and have come up with interesting insights. This can help in making strategic data-driven decisions by the marketing team, finance team and technical team of Airbnb\n"
      ],
      "metadata": {
        "id": "FJNUwmbgGyua"
      }
    },
    {
      "cell_type": "markdown",
      "source": [
        "# **GitHub Link** - https://github.com/samee-faq/airbnb_eda_project/blob/main/Sameera's_Airbnb_Bookings_Analysis_Capstone_Project_EDA.ipynb\n",
        "\n"
      ],
      "metadata": {
        "id": "w6K7xa23Elo4"
      }
    },
    {
      "cell_type": "markdown",
      "source": [
        "Provide your GitHub Link here."
      ],
      "metadata": {
        "id": "h1o69JH3Eqqn"
      }
    },
    {
      "cell_type": "markdown",
      "source": [
        "# **Problem Statement**\n"
      ],
      "metadata": {
        "id": "yQaldy8SH6Dl"
      }
    },
    {
      "cell_type": "markdown",
      "source": [
        "**Write Problem Statement Here.** \n",
        "\n",
        "Every data science project starts with a problem / question. In my project, my business need scenario is:\n",
        "\n",
        "Finding best location to buy a new property that will be hosted on Airbnb for investment. \n",
        "\n",
        "My solution is : Using Airbnb data, House Prices Index (House Price, Sales Volume, Yearly Increment) data, Council Tax data, GIS Boundary data and analyse to find best location for buying new property."
      ],
      "metadata": {
        "id": "DpeJGUA3kjGy"
      }
    },
    {
      "cell_type": "markdown",
      "source": [
        "#### **Define Your Business Objective?**"
      ],
      "metadata": {
        "id": "PH-0ReGfmX4f"
      }
    },
    {
      "cell_type": "markdown",
      "source": [
        "**My objectives about this project : Answering these questions for each borough;**\n",
        "\n",
        "\n",
        "*   Number of properties that host on Airbnb\n",
        "* Average price per night  \n",
        "\n",
        "*   Calculate annual income, annual expense, annual return, initial expense (tax, convenyacing,furniture etc.)\n",
        "*   Estimate Occupancy rate\n",
        "*   Calculate average house price, annual increment and sales volume\n",
        "*   Calculate return of investment rate and total profit\n",
        "\n",
        "\n",
        "\n",
        "\n",
        "\n",
        "\n",
        "\n"
      ],
      "metadata": {
        "id": "PhDvGCAqmjP1"
      }
    },
    {
      "cell_type": "markdown",
      "source": [
        "# **General Guidelines** : -  "
      ],
      "metadata": {
        "id": "mDgbUHAGgjLW"
      }
    },
    {
      "cell_type": "markdown",
      "source": [
        "1.   Well-structured, formatted, and commented code is required. \n",
        "2.   Exception Handling, Production Grade Code & Deployment Ready Code will be a plus. Those students will be awarded some additional credits. \n",
        "     \n",
        "     The additional credits will have advantages over other students during Star Student selection.\n",
        "       \n",
        "             [ Note: - Deployment Ready Code is defined as, the whole .ipynb notebook should be executable in one go\n",
        "                       without a single error logged. ]\n",
        "\n",
        "3.   Each and every logic should have proper comments.\n",
        "4. You may add as many number of charts you want. Make Sure for each and every chart the following format should be answered.\n",
        "        \n",
        "\n",
        "```\n",
        "# Chart visualization code\n",
        "```\n",
        "            \n",
        "\n",
        "*   Why did you pick the specific chart?\n",
        "*   What is/are the insight(s) found from the chart?\n",
        "* Will the gained insights help creating a positive business impact? \n",
        "Are there any insights that lead to negative growth? Justify with specific reason.\n",
        "\n",
        "5. You have to create at least 20 logical & meaningful charts having important insights.\n",
        "\n",
        "\n",
        "[ Hints : - Do the Vizualization in  a structured way while following \"UBM\" Rule. \n",
        "\n",
        "U - Univariate Analysis,\n",
        "\n",
        "B - Bivariate Analysis (Numerical - Categorical, Numerical - Numerical, Categorical - Categorical)\n",
        "\n",
        "M - Multivariate Analysis\n",
        " ]\n",
        "\n",
        "\n",
        "\n"
      ],
      "metadata": {
        "id": "ZrxVaUj-hHfC"
      }
    },
    {
      "cell_type": "markdown",
      "source": [
        "# ***Let's Begin !***"
      ],
      "metadata": {
        "id": "O_i_v8NEhb9l"
      }
    },
    {
      "cell_type": "markdown",
      "source": [
        "## ***1. Know Your Data***"
      ],
      "metadata": {
        "id": "HhfV-JJviCcP"
      }
    },
    {
      "cell_type": "markdown",
      "source": [
        "### Import Libraries"
      ],
      "metadata": {
        "id": "Y3lxredqlCYt"
      }
    },
    {
      "cell_type": "code",
      "source": [
        "from pandas.core.arrays.base import missing\n",
        "# Import Libraries\n",
        "import pandas as pd\n",
        "import numpy as np\n",
        "\n",
        "import matplotlib.pyplot as plt\n",
        "%matplotlib inline\n",
        "\n",
        "import seaborn as sns\n",
        "\n",
        "import missingno as msno"
      ],
      "metadata": {
        "id": "M8Vqi-pPk-HR"
      },
      "execution_count": 4,
      "outputs": []
    },
    {
      "cell_type": "markdown",
      "source": [
        "### Dataset Loading"
      ],
      "metadata": {
        "id": "3RnN4peoiCZX"
      }
    },
    {
      "cell_type": "code",
      "source": [
        "#loading data of Airbnb NYC 2019.\n",
        "Airbnb_df = pd.read_csv('/content/drive/MyDrive/data /Copy of Airbnb NYC 2019.csv')"
      ],
      "metadata": {
        "id": "4CkvbW_SlZ_R"
      },
      "execution_count": 23,
      "outputs": []
    },
    {
      "cell_type": "markdown",
      "source": [
        "### Dataset First View"
      ],
      "metadata": {
        "id": "x71ZqKXriCWQ"
      }
    },
    {
      "cell_type": "code",
      "source": [
        "# Dataset First Look\n",
        "# Having a look at first 10 rows of our data.\n",
        "Airbnb_df.head(10)"
      ],
      "metadata": {
        "id": "LWNFOSvLl09H",
        "colab": {
          "base_uri": "https://localhost:8080/",
          "height": 774
        },
        "outputId": "cc13e232-63b7-4756-dce2-34089621a7eb"
      },
      "execution_count": 24,
      "outputs": [
        {
          "output_type": "execute_result",
          "data": {
            "text/plain": [
              "     id                                              name  host_id  \\\n",
              "0  2539                Clean & quiet apt home by the park     2787   \n",
              "1  2595                             Skylit Midtown Castle     2845   \n",
              "2  3647               THE VILLAGE OF HARLEM....NEW YORK !     4632   \n",
              "3  3831                   Cozy Entire Floor of Brownstone     4869   \n",
              "4  5022  Entire Apt: Spacious Studio/Loft by central park     7192   \n",
              "5  5099         Large Cozy 1 BR Apartment In Midtown East     7322   \n",
              "6  5121                                   BlissArtsSpace!     7356   \n",
              "7  5178                  Large Furnished Room Near B'way      8967   \n",
              "8  5203                Cozy Clean Guest Room - Family Apt     7490   \n",
              "9  5238                Cute & Cozy Lower East Side 1 bdrm     7549   \n",
              "\n",
              "     host_name neighbourhood_group       neighbourhood  latitude  longitude  \\\n",
              "0         John            Brooklyn          Kensington  40.64749  -73.97237   \n",
              "1     Jennifer           Manhattan             Midtown  40.75362  -73.98377   \n",
              "2    Elisabeth           Manhattan              Harlem  40.80902  -73.94190   \n",
              "3  LisaRoxanne            Brooklyn        Clinton Hill  40.68514  -73.95976   \n",
              "4        Laura           Manhattan         East Harlem  40.79851  -73.94399   \n",
              "5        Chris           Manhattan         Murray Hill  40.74767  -73.97500   \n",
              "6        Garon            Brooklyn  Bedford-Stuyvesant  40.68688  -73.95596   \n",
              "7     Shunichi           Manhattan      Hell's Kitchen  40.76489  -73.98493   \n",
              "8    MaryEllen           Manhattan     Upper West Side  40.80178  -73.96723   \n",
              "9          Ben           Manhattan           Chinatown  40.71344  -73.99037   \n",
              "\n",
              "         room_type  price  minimum_nights  number_of_reviews last_review  \\\n",
              "0     Private room    149               1                  9  2018-10-19   \n",
              "1  Entire home/apt    225               1                 45  2019-05-21   \n",
              "2     Private room    150               3                  0         NaN   \n",
              "3  Entire home/apt     89               1                270  2019-07-05   \n",
              "4  Entire home/apt     80              10                  9  2018-11-19   \n",
              "5  Entire home/apt    200               3                 74  2019-06-22   \n",
              "6     Private room     60              45                 49  2017-10-05   \n",
              "7     Private room     79               2                430  2019-06-24   \n",
              "8     Private room     79               2                118  2017-07-21   \n",
              "9  Entire home/apt    150               1                160  2019-06-09   \n",
              "\n",
              "   reviews_per_month  calculated_host_listings_count  availability_365  \n",
              "0               0.21                               6               365  \n",
              "1               0.38                               2               355  \n",
              "2                NaN                               1               365  \n",
              "3               4.64                               1               194  \n",
              "4               0.10                               1                 0  \n",
              "5               0.59                               1               129  \n",
              "6               0.40                               1                 0  \n",
              "7               3.47                               1               220  \n",
              "8               0.99                               1                 0  \n",
              "9               1.33                               4               188  "
            ],
            "text/html": [
              "\n",
              "  <div id=\"df-911a3cfd-5054-48cb-89b8-430271986a3d\">\n",
              "    <div class=\"colab-df-container\">\n",
              "      <div>\n",
              "<style scoped>\n",
              "    .dataframe tbody tr th:only-of-type {\n",
              "        vertical-align: middle;\n",
              "    }\n",
              "\n",
              "    .dataframe tbody tr th {\n",
              "        vertical-align: top;\n",
              "    }\n",
              "\n",
              "    .dataframe thead th {\n",
              "        text-align: right;\n",
              "    }\n",
              "</style>\n",
              "<table border=\"1\" class=\"dataframe\">\n",
              "  <thead>\n",
              "    <tr style=\"text-align: right;\">\n",
              "      <th></th>\n",
              "      <th>id</th>\n",
              "      <th>name</th>\n",
              "      <th>host_id</th>\n",
              "      <th>host_name</th>\n",
              "      <th>neighbourhood_group</th>\n",
              "      <th>neighbourhood</th>\n",
              "      <th>latitude</th>\n",
              "      <th>longitude</th>\n",
              "      <th>room_type</th>\n",
              "      <th>price</th>\n",
              "      <th>minimum_nights</th>\n",
              "      <th>number_of_reviews</th>\n",
              "      <th>last_review</th>\n",
              "      <th>reviews_per_month</th>\n",
              "      <th>calculated_host_listings_count</th>\n",
              "      <th>availability_365</th>\n",
              "    </tr>\n",
              "  </thead>\n",
              "  <tbody>\n",
              "    <tr>\n",
              "      <th>0</th>\n",
              "      <td>2539</td>\n",
              "      <td>Clean &amp; quiet apt home by the park</td>\n",
              "      <td>2787</td>\n",
              "      <td>John</td>\n",
              "      <td>Brooklyn</td>\n",
              "      <td>Kensington</td>\n",
              "      <td>40.64749</td>\n",
              "      <td>-73.97237</td>\n",
              "      <td>Private room</td>\n",
              "      <td>149</td>\n",
              "      <td>1</td>\n",
              "      <td>9</td>\n",
              "      <td>2018-10-19</td>\n",
              "      <td>0.21</td>\n",
              "      <td>6</td>\n",
              "      <td>365</td>\n",
              "    </tr>\n",
              "    <tr>\n",
              "      <th>1</th>\n",
              "      <td>2595</td>\n",
              "      <td>Skylit Midtown Castle</td>\n",
              "      <td>2845</td>\n",
              "      <td>Jennifer</td>\n",
              "      <td>Manhattan</td>\n",
              "      <td>Midtown</td>\n",
              "      <td>40.75362</td>\n",
              "      <td>-73.98377</td>\n",
              "      <td>Entire home/apt</td>\n",
              "      <td>225</td>\n",
              "      <td>1</td>\n",
              "      <td>45</td>\n",
              "      <td>2019-05-21</td>\n",
              "      <td>0.38</td>\n",
              "      <td>2</td>\n",
              "      <td>355</td>\n",
              "    </tr>\n",
              "    <tr>\n",
              "      <th>2</th>\n",
              "      <td>3647</td>\n",
              "      <td>THE VILLAGE OF HARLEM....NEW YORK !</td>\n",
              "      <td>4632</td>\n",
              "      <td>Elisabeth</td>\n",
              "      <td>Manhattan</td>\n",
              "      <td>Harlem</td>\n",
              "      <td>40.80902</td>\n",
              "      <td>-73.94190</td>\n",
              "      <td>Private room</td>\n",
              "      <td>150</td>\n",
              "      <td>3</td>\n",
              "      <td>0</td>\n",
              "      <td>NaN</td>\n",
              "      <td>NaN</td>\n",
              "      <td>1</td>\n",
              "      <td>365</td>\n",
              "    </tr>\n",
              "    <tr>\n",
              "      <th>3</th>\n",
              "      <td>3831</td>\n",
              "      <td>Cozy Entire Floor of Brownstone</td>\n",
              "      <td>4869</td>\n",
              "      <td>LisaRoxanne</td>\n",
              "      <td>Brooklyn</td>\n",
              "      <td>Clinton Hill</td>\n",
              "      <td>40.68514</td>\n",
              "      <td>-73.95976</td>\n",
              "      <td>Entire home/apt</td>\n",
              "      <td>89</td>\n",
              "      <td>1</td>\n",
              "      <td>270</td>\n",
              "      <td>2019-07-05</td>\n",
              "      <td>4.64</td>\n",
              "      <td>1</td>\n",
              "      <td>194</td>\n",
              "    </tr>\n",
              "    <tr>\n",
              "      <th>4</th>\n",
              "      <td>5022</td>\n",
              "      <td>Entire Apt: Spacious Studio/Loft by central park</td>\n",
              "      <td>7192</td>\n",
              "      <td>Laura</td>\n",
              "      <td>Manhattan</td>\n",
              "      <td>East Harlem</td>\n",
              "      <td>40.79851</td>\n",
              "      <td>-73.94399</td>\n",
              "      <td>Entire home/apt</td>\n",
              "      <td>80</td>\n",
              "      <td>10</td>\n",
              "      <td>9</td>\n",
              "      <td>2018-11-19</td>\n",
              "      <td>0.10</td>\n",
              "      <td>1</td>\n",
              "      <td>0</td>\n",
              "    </tr>\n",
              "    <tr>\n",
              "      <th>5</th>\n",
              "      <td>5099</td>\n",
              "      <td>Large Cozy 1 BR Apartment In Midtown East</td>\n",
              "      <td>7322</td>\n",
              "      <td>Chris</td>\n",
              "      <td>Manhattan</td>\n",
              "      <td>Murray Hill</td>\n",
              "      <td>40.74767</td>\n",
              "      <td>-73.97500</td>\n",
              "      <td>Entire home/apt</td>\n",
              "      <td>200</td>\n",
              "      <td>3</td>\n",
              "      <td>74</td>\n",
              "      <td>2019-06-22</td>\n",
              "      <td>0.59</td>\n",
              "      <td>1</td>\n",
              "      <td>129</td>\n",
              "    </tr>\n",
              "    <tr>\n",
              "      <th>6</th>\n",
              "      <td>5121</td>\n",
              "      <td>BlissArtsSpace!</td>\n",
              "      <td>7356</td>\n",
              "      <td>Garon</td>\n",
              "      <td>Brooklyn</td>\n",
              "      <td>Bedford-Stuyvesant</td>\n",
              "      <td>40.68688</td>\n",
              "      <td>-73.95596</td>\n",
              "      <td>Private room</td>\n",
              "      <td>60</td>\n",
              "      <td>45</td>\n",
              "      <td>49</td>\n",
              "      <td>2017-10-05</td>\n",
              "      <td>0.40</td>\n",
              "      <td>1</td>\n",
              "      <td>0</td>\n",
              "    </tr>\n",
              "    <tr>\n",
              "      <th>7</th>\n",
              "      <td>5178</td>\n",
              "      <td>Large Furnished Room Near B'way</td>\n",
              "      <td>8967</td>\n",
              "      <td>Shunichi</td>\n",
              "      <td>Manhattan</td>\n",
              "      <td>Hell's Kitchen</td>\n",
              "      <td>40.76489</td>\n",
              "      <td>-73.98493</td>\n",
              "      <td>Private room</td>\n",
              "      <td>79</td>\n",
              "      <td>2</td>\n",
              "      <td>430</td>\n",
              "      <td>2019-06-24</td>\n",
              "      <td>3.47</td>\n",
              "      <td>1</td>\n",
              "      <td>220</td>\n",
              "    </tr>\n",
              "    <tr>\n",
              "      <th>8</th>\n",
              "      <td>5203</td>\n",
              "      <td>Cozy Clean Guest Room - Family Apt</td>\n",
              "      <td>7490</td>\n",
              "      <td>MaryEllen</td>\n",
              "      <td>Manhattan</td>\n",
              "      <td>Upper West Side</td>\n",
              "      <td>40.80178</td>\n",
              "      <td>-73.96723</td>\n",
              "      <td>Private room</td>\n",
              "      <td>79</td>\n",
              "      <td>2</td>\n",
              "      <td>118</td>\n",
              "      <td>2017-07-21</td>\n",
              "      <td>0.99</td>\n",
              "      <td>1</td>\n",
              "      <td>0</td>\n",
              "    </tr>\n",
              "    <tr>\n",
              "      <th>9</th>\n",
              "      <td>5238</td>\n",
              "      <td>Cute &amp; Cozy Lower East Side 1 bdrm</td>\n",
              "      <td>7549</td>\n",
              "      <td>Ben</td>\n",
              "      <td>Manhattan</td>\n",
              "      <td>Chinatown</td>\n",
              "      <td>40.71344</td>\n",
              "      <td>-73.99037</td>\n",
              "      <td>Entire home/apt</td>\n",
              "      <td>150</td>\n",
              "      <td>1</td>\n",
              "      <td>160</td>\n",
              "      <td>2019-06-09</td>\n",
              "      <td>1.33</td>\n",
              "      <td>4</td>\n",
              "      <td>188</td>\n",
              "    </tr>\n",
              "  </tbody>\n",
              "</table>\n",
              "</div>\n",
              "      <button class=\"colab-df-convert\" onclick=\"convertToInteractive('df-911a3cfd-5054-48cb-89b8-430271986a3d')\"\n",
              "              title=\"Convert this dataframe to an interactive table.\"\n",
              "              style=\"display:none;\">\n",
              "        \n",
              "  <svg xmlns=\"http://www.w3.org/2000/svg\" height=\"24px\"viewBox=\"0 0 24 24\"\n",
              "       width=\"24px\">\n",
              "    <path d=\"M0 0h24v24H0V0z\" fill=\"none\"/>\n",
              "    <path d=\"M18.56 5.44l.94 2.06.94-2.06 2.06-.94-2.06-.94-.94-2.06-.94 2.06-2.06.94zm-11 1L8.5 8.5l.94-2.06 2.06-.94-2.06-.94L8.5 2.5l-.94 2.06-2.06.94zm10 10l.94 2.06.94-2.06 2.06-.94-2.06-.94-.94-2.06-.94 2.06-2.06.94z\"/><path d=\"M17.41 7.96l-1.37-1.37c-.4-.4-.92-.59-1.43-.59-.52 0-1.04.2-1.43.59L10.3 9.45l-7.72 7.72c-.78.78-.78 2.05 0 2.83L4 21.41c.39.39.9.59 1.41.59.51 0 1.02-.2 1.41-.59l7.78-7.78 2.81-2.81c.8-.78.8-2.07 0-2.86zM5.41 20L4 18.59l7.72-7.72 1.47 1.35L5.41 20z\"/>\n",
              "  </svg>\n",
              "      </button>\n",
              "      \n",
              "  <style>\n",
              "    .colab-df-container {\n",
              "      display:flex;\n",
              "      flex-wrap:wrap;\n",
              "      gap: 12px;\n",
              "    }\n",
              "\n",
              "    .colab-df-convert {\n",
              "      background-color: #E8F0FE;\n",
              "      border: none;\n",
              "      border-radius: 50%;\n",
              "      cursor: pointer;\n",
              "      display: none;\n",
              "      fill: #1967D2;\n",
              "      height: 32px;\n",
              "      padding: 0 0 0 0;\n",
              "      width: 32px;\n",
              "    }\n",
              "\n",
              "    .colab-df-convert:hover {\n",
              "      background-color: #E2EBFA;\n",
              "      box-shadow: 0px 1px 2px rgba(60, 64, 67, 0.3), 0px 1px 3px 1px rgba(60, 64, 67, 0.15);\n",
              "      fill: #174EA6;\n",
              "    }\n",
              "\n",
              "    [theme=dark] .colab-df-convert {\n",
              "      background-color: #3B4455;\n",
              "      fill: #D2E3FC;\n",
              "    }\n",
              "\n",
              "    [theme=dark] .colab-df-convert:hover {\n",
              "      background-color: #434B5C;\n",
              "      box-shadow: 0px 1px 3px 1px rgba(0, 0, 0, 0.15);\n",
              "      filter: drop-shadow(0px 1px 2px rgba(0, 0, 0, 0.3));\n",
              "      fill: #FFFFFF;\n",
              "    }\n",
              "  </style>\n",
              "\n",
              "      <script>\n",
              "        const buttonEl =\n",
              "          document.querySelector('#df-911a3cfd-5054-48cb-89b8-430271986a3d button.colab-df-convert');\n",
              "        buttonEl.style.display =\n",
              "          google.colab.kernel.accessAllowed ? 'block' : 'none';\n",
              "\n",
              "        async function convertToInteractive(key) {\n",
              "          const element = document.querySelector('#df-911a3cfd-5054-48cb-89b8-430271986a3d');\n",
              "          const dataTable =\n",
              "            await google.colab.kernel.invokeFunction('convertToInteractive',\n",
              "                                                     [key], {});\n",
              "          if (!dataTable) return;\n",
              "\n",
              "          const docLinkHtml = 'Like what you see? Visit the ' +\n",
              "            '<a target=\"_blank\" href=https://colab.research.google.com/notebooks/data_table.ipynb>data table notebook</a>'\n",
              "            + ' to learn more about interactive tables.';\n",
              "          element.innerHTML = '';\n",
              "          dataTable['output_type'] = 'display_data';\n",
              "          await google.colab.output.renderOutput(dataTable, element);\n",
              "          const docLink = document.createElement('div');\n",
              "          docLink.innerHTML = docLinkHtml;\n",
              "          element.appendChild(docLink);\n",
              "        }\n",
              "      </script>\n",
              "    </div>\n",
              "  </div>\n",
              "  "
            ]
          },
          "metadata": {},
          "execution_count": 24
        }
      ]
    },
    {
      "cell_type": "markdown",
      "source": [
        "### Dataset Rows & Columns count"
      ],
      "metadata": {
        "id": "7hBIi_osiCS2"
      }
    },
    {
      "cell_type": "code",
      "source": [
        "# Dataset Rows & Columns count / shape.\n",
        "print('\\nRows :',Airbnb_df.shape[0])\n",
        "print('\\nColumns :',Airbnb_df.shape[1])\n",
        "print('\\nColumns :',Airbnb_df.columns)\n"
      ],
      "metadata": {
        "id": "Kllu7SJgmLij",
        "colab": {
          "base_uri": "https://localhost:8080/"
        },
        "outputId": "0585d780-7811-4a3c-f7ea-a2b10edfa1cf"
      },
      "execution_count": 25,
      "outputs": [
        {
          "output_type": "stream",
          "name": "stdout",
          "text": [
            "\n",
            "Rows : 48895\n",
            "\n",
            "Columns : 16\n",
            "\n",
            "Columns : Index(['id', 'name', 'host_id', 'host_name', 'neighbourhood_group',\n",
            "       'neighbourhood', 'latitude', 'longitude', 'room_type', 'price',\n",
            "       'minimum_nights', 'number_of_reviews', 'last_review',\n",
            "       'reviews_per_month', 'calculated_host_listings_count',\n",
            "       'availability_365'],\n",
            "      dtype='object')\n"
          ]
        }
      ]
    },
    {
      "cell_type": "markdown",
      "source": [
        "### Dataset Information"
      ],
      "metadata": {
        "id": "JlHwYmJAmNHm"
      }
    },
    {
      "cell_type": "code",
      "source": [
        "# Dataset Info\n",
        "Airbnb_df.info(verbose = True)"
      ],
      "metadata": {
        "id": "e9hRXRi6meOf",
        "colab": {
          "base_uri": "https://localhost:8080/"
        },
        "outputId": "36870f0c-5fd5-433f-8c84-b4ec8afac02a"
      },
      "execution_count": 26,
      "outputs": [
        {
          "output_type": "stream",
          "name": "stdout",
          "text": [
            "<class 'pandas.core.frame.DataFrame'>\n",
            "RangeIndex: 48895 entries, 0 to 48894\n",
            "Data columns (total 16 columns):\n",
            " #   Column                          Non-Null Count  Dtype  \n",
            "---  ------                          --------------  -----  \n",
            " 0   id                              48895 non-null  int64  \n",
            " 1   name                            48879 non-null  object \n",
            " 2   host_id                         48895 non-null  int64  \n",
            " 3   host_name                       48874 non-null  object \n",
            " 4   neighbourhood_group             48895 non-null  object \n",
            " 5   neighbourhood                   48895 non-null  object \n",
            " 6   latitude                        48895 non-null  float64\n",
            " 7   longitude                       48895 non-null  float64\n",
            " 8   room_type                       48895 non-null  object \n",
            " 9   price                           48895 non-null  int64  \n",
            " 10  minimum_nights                  48895 non-null  int64  \n",
            " 11  number_of_reviews               48895 non-null  int64  \n",
            " 12  last_review                     38843 non-null  object \n",
            " 13  reviews_per_month               38843 non-null  float64\n",
            " 14  calculated_host_listings_count  48895 non-null  int64  \n",
            " 15  availability_365                48895 non-null  int64  \n",
            "dtypes: float64(3), int64(7), object(6)\n",
            "memory usage: 6.0+ MB\n"
          ]
        }
      ]
    },
    {
      "cell_type": "markdown",
      "source": [
        "#### Duplicate Values"
      ],
      "metadata": {
        "id": "35m5QtbWiB9F"
      }
    },
    {
      "cell_type": "code",
      "source": [
        "\n",
        "# Dataset Duplicate Value Count\n",
        "Airbnb_df.duplicated().sum()\n"
      ],
      "metadata": {
        "id": "1sLdpKYkmox0",
        "colab": {
          "base_uri": "https://localhost:8080/"
        },
        "outputId": "7afd2304-8e3c-4fad-c73f-a6f99cab40df"
      },
      "execution_count": 27,
      "outputs": [
        {
          "output_type": "execute_result",
          "data": {
            "text/plain": [
              "0"
            ]
          },
          "metadata": {},
          "execution_count": 27
        }
      ]
    },
    {
      "cell_type": "markdown",
      "source": [
        "\n",
        "\n",
        "*   Here we can see that we have zero duplicates values.\n",
        "\n",
        "\n",
        "\n"
      ],
      "metadata": {
        "id": "gr1RE0uHaoij"
      }
    },
    {
      "cell_type": "markdown",
      "source": [
        "#### Missing Values/Null Values"
      ],
      "metadata": {
        "id": "PoPl-ycgm1ru"
      }
    },
    {
      "cell_type": "code",
      "source": [
        "# Missing Values/Null Values Count\n",
        "Airbnb_df.isnull().sum()"
      ],
      "metadata": {
        "id": "GgHWkxvamxVg",
        "colab": {
          "base_uri": "https://localhost:8080/"
        },
        "outputId": "54935dbf-a868-4a39-fcba-d02642a2afb8"
      },
      "execution_count": 28,
      "outputs": [
        {
          "output_type": "execute_result",
          "data": {
            "text/plain": [
              "id                                    0\n",
              "name                                 16\n",
              "host_id                               0\n",
              "host_name                            21\n",
              "neighbourhood_group                   0\n",
              "neighbourhood                         0\n",
              "latitude                              0\n",
              "longitude                             0\n",
              "room_type                             0\n",
              "price                                 0\n",
              "minimum_nights                        0\n",
              "number_of_reviews                     0\n",
              "last_review                       10052\n",
              "reviews_per_month                 10052\n",
              "calculated_host_listings_count        0\n",
              "availability_365                      0\n",
              "dtype: int64"
            ]
          },
          "metadata": {},
          "execution_count": 28
        }
      ]
    },
    {
      "cell_type": "code",
      "source": [
        "# Visualizing the missing values\n",
        "# Values as bar chart\n",
        "msno.bar(Airbnb_df)"
      ],
      "metadata": {
        "id": "3q5wnI3om9sJ",
        "colab": {
          "base_uri": "https://localhost:8080/",
          "height": 641
        },
        "outputId": "83429084-f618-45da-c044-c683fefac5e5"
      },
      "execution_count": 29,
      "outputs": [
        {
          "output_type": "execute_result",
          "data": {
            "text/plain": [
              "<Axes: >"
            ]
          },
          "metadata": {},
          "execution_count": 29
        },
        {
          "output_type": "display_data",
          "data": {
            "text/plain": [
              "<Figure size 2500x1000 with 3 Axes>"
            ],
            "image/png": "[encoded data removed]"
          },
          "metadata": {}
        }
      ]
    },
    {
      "cell_type": "markdown",
      "source": [
        "\n",
        "*   Here by a single look on this bar chart we can see last_review and review_per_month have major missing values.Other columns also have missing value but not that much.The bar length define the amount of missing values.The shorter the bar the more missing value it contains.\n",
        "\n"
      ],
      "metadata": {
        "id": "ftr7myL9m9GS"
      }
    },
    {
      "cell_type": "markdown",
      "source": [
        "### What did you know about your dataset?\n"
      ],
      "metadata": {
        "id": "H0kj-8xxnORC"
      }
    },
    {
      "cell_type": "markdown",
      "source": [
        "With above operation on the data set that it has 48895 rows and 16 columns.Each column contains unique and duplicates values.By the missing value visualization we can say that two columns (last review,reveiw per month ) have larger number of missing value and we have float and int type data set. "
      ],
      "metadata": {
        "id": "gfoNAAC-nUe_"
      }
    },
    {
      "cell_type": "markdown",
      "source": [
        "## ***2. Understanding Your Variables***"
      ],
      "metadata": {
        "id": "nA9Y7ga8ng1Z"
      }
    },
    {
      "cell_type": "code",
      "source": [
        "# Dataset Columns\n",
        "Airbnb_df.columns"
      ],
      "metadata": {
        "id": "j7xfkqrt5Ag5",
        "colab": {
          "base_uri": "https://localhost:8080/"
        },
        "outputId": "df0393aa-8cb9-49be-e629-9d0830af7b33"
      },
      "execution_count": 30,
      "outputs": [
        {
          "output_type": "execute_result",
          "data": {
            "text/plain": [
              "Index(['id', 'name', 'host_id', 'host_name', 'neighbourhood_group',\n",
              "       'neighbourhood', 'latitude', 'longitude', 'room_type', 'price',\n",
              "       'minimum_nights', 'number_of_reviews', 'last_review',\n",
              "       'reviews_per_month', 'calculated_host_listings_count',\n",
              "       'availability_365'],\n",
              "      dtype='object')"
            ]
          },
          "metadata": {},
          "execution_count": 30
        }
      ]
    },
    {
      "cell_type": "code",
      "source": [
        "# Dataset Describe\n",
        "Airbnb_df.describe()"
      ],
      "metadata": {
        "id": "DnOaZdaE5Q5t",
        "colab": {
          "base_uri": "https://localhost:8080/",
          "height": 364
        },
        "outputId": "2e827bfa-6a81-4af0-d331-39566571aa43"
      },
      "execution_count": 31,
      "outputs": [
        {
          "output_type": "execute_result",
          "data": {
            "text/plain": [
              "                 id       host_id      latitude     longitude         price  \\\n",
              "count  4.889500e+04  4.889500e+04  48895.000000  48895.000000  48895.000000   \n",
              "mean   1.901714e+07  6.762001e+07     40.728949    -73.952170    152.720687   \n",
              "std    1.098311e+07  7.861097e+07      0.054530      0.046157    240.154170   \n",
              "min    2.539000e+03  2.438000e+03     40.499790    -74.244420      0.000000   \n",
              "25%    9.471945e+06  7.822033e+06     40.690100    -73.983070     69.000000   \n",
              "50%    1.967728e+07  3.079382e+07     40.723070    -73.955680    106.000000   \n",
              "75%    2.915218e+07  1.074344e+08     40.763115    -73.936275    175.000000   \n",
              "max    3.648724e+07  2.743213e+08     40.913060    -73.712990  10000.000000   \n",
              "\n",
              "       minimum_nights  number_of_reviews  reviews_per_month  \\\n",
              "count    48895.000000       48895.000000       38843.000000   \n",
              "mean         7.029962          23.274466           1.373221   \n",
              "std         20.510550          44.550582           1.680442   \n",
              "min          1.000000           0.000000           0.010000   \n",
              "25%          1.000000           1.000000           0.190000   \n",
              "50%          3.000000           5.000000           0.720000   \n",
              "75%          5.000000          24.000000           2.020000   \n",
              "max       1250.000000         629.000000          58.500000   \n",
              "\n",
              "       calculated_host_listings_count  availability_365  \n",
              "count                    48895.000000      48895.000000  \n",
              "mean                         7.143982        112.781327  \n",
              "std                         32.952519        131.622289  \n",
              "min                          1.000000          0.000000  \n",
              "25%                          1.000000          0.000000  \n",
              "50%                          1.000000         45.000000  \n",
              "75%                          2.000000        227.000000  \n",
              "max                        327.000000        365.000000  "
            ],
            "text/html": [
              "\n",
              "  <div id=\"df-0010c2b5-9b10-41d8-9fbf-6bed9e6ac83a\">\n",
              "    <div class=\"colab-df-container\">\n",
              "      <div>\n",
              "<style scoped>\n",
              "    .dataframe tbody tr th:only-of-type {\n",
              "        vertical-align: middle;\n",
              "    }\n",
              "\n",
              "    .dataframe tbody tr th {\n",
              "        vertical-align: top;\n",
              "    }\n",
              "\n",
              "    .dataframe thead th {\n",
              "        text-align: right;\n",
              "    }\n",
              "</style>\n",
              "<table border=\"1\" class=\"dataframe\">\n",
              "  <thead>\n",
              "    <tr style=\"text-align: right;\">\n",
              "      <th></th>\n",
              "      <th>id</th>\n",
              "      <th>host_id</th>\n",
              "      <th>latitude</th>\n",
              "      <th>longitude</th>\n",
              "      <th>price</th>\n",
              "      <th>minimum_nights</th>\n",
              "      <th>number_of_reviews</th>\n",
              "      <th>reviews_per_month</th>\n",
              "      <th>calculated_host_listings_count</th>\n",
              "      <th>availability_365</th>\n",
              "    </tr>\n",
              "  </thead>\n",
              "  <tbody>\n",
              "    <tr>\n",
              "      <th>count</th>\n",
              "      <td>4.889500e+04</td>\n",
              "      <td>4.889500e+04</td>\n",
              "      <td>48895.000000</td>\n",
              "      <td>48895.000000</td>\n",
              "      <td>48895.000000</td>\n",
              "      <td>48895.000000</td>\n",
              "      <td>48895.000000</td>\n",
              "      <td>38843.000000</td>\n",
              "      <td>48895.000000</td>\n",
              "      <td>48895.000000</td>\n",
              "    </tr>\n",
              "    <tr>\n",
              "      <th>mean</th>\n",
              "      <td>1.901714e+07</td>\n",
              "      <td>6.762001e+07</td>\n",
              "      <td>40.728949</td>\n",
              "      <td>-73.952170</td>\n",
              "      <td>152.720687</td>\n",
              "      <td>7.029962</td>\n",
              "      <td>23.274466</td>\n",
              "      <td>1.373221</td>\n",
              "      <td>7.143982</td>\n",
              "      <td>112.781327</td>\n",
              "    </tr>\n",
              "    <tr>\n",
              "      <th>std</th>\n",
              "      <td>1.098311e+07</td>\n",
              "      <td>7.861097e+07</td>\n",
              "      <td>0.054530</td>\n",
              "      <td>0.046157</td>\n",
              "      <td>240.154170</td>\n",
              "      <td>20.510550</td>\n",
              "      <td>44.550582</td>\n",
              "      <td>1.680442</td>\n",
              "      <td>32.952519</td>\n",
              "      <td>131.622289</td>\n",
              "    </tr>\n",
              "    <tr>\n",
              "      <th>min</th>\n",
              "      <td>2.539000e+03</td>\n",
              "      <td>2.438000e+03</td>\n",
              "      <td>40.499790</td>\n",
              "      <td>-74.244420</td>\n",
              "      <td>0.000000</td>\n",
              "      <td>1.000000</td>\n",
              "      <td>0.000000</td>\n",
              "      <td>0.010000</td>\n",
              "      <td>1.000000</td>\n",
              "      <td>0.000000</td>\n",
              "    </tr>\n",
              "    <tr>\n",
              "      <th>25%</th>\n",
              "      <td>9.471945e+06</td>\n",
              "      <td>7.822033e+06</td>\n",
              "      <td>40.690100</td>\n",
              "      <td>-73.983070</td>\n",
              "      <td>69.000000</td>\n",
              "      <td>1.000000</td>\n",
              "      <td>1.000000</td>\n",
              "      <td>0.190000</td>\n",
              "      <td>1.000000</td>\n",
              "      <td>0.000000</td>\n",
              "    </tr>\n",
              "    <tr>\n",
              "      <th>50%</th>\n",
              "      <td>1.967728e+07</td>\n",
              "      <td>3.079382e+07</td>\n",
              "      <td>40.723070</td>\n",
              "      <td>-73.955680</td>\n",
              "      <td>106.000000</td>\n",
              "      <td>3.000000</td>\n",
              "      <td>5.000000</td>\n",
              "      <td>0.720000</td>\n",
              "      <td>1.000000</td>\n",
              "      <td>45.000000</td>\n",
              "    </tr>\n",
              "    <tr>\n",
              "      <th>75%</th>\n",
              "      <td>2.915218e+07</td>\n",
              "      <td>1.074344e+08</td>\n",
              "      <td>40.763115</td>\n",
              "      <td>-73.936275</td>\n",
              "      <td>175.000000</td>\n",
              "      <td>5.000000</td>\n",
              "      <td>24.000000</td>\n",
              "      <td>2.020000</td>\n",
              "      <td>2.000000</td>\n",
              "      <td>227.000000</td>\n",
              "    </tr>\n",
              "    <tr>\n",
              "      <th>max</th>\n",
              "      <td>3.648724e+07</td>\n",
              "      <td>2.743213e+08</td>\n",
              "      <td>40.913060</td>\n",
              "      <td>-73.712990</td>\n",
              "      <td>10000.000000</td>\n",
              "      <td>1250.000000</td>\n",
              "      <td>629.000000</td>\n",
              "      <td>58.500000</td>\n",
              "      <td>327.000000</td>\n",
              "      <td>365.000000</td>\n",
              "    </tr>\n",
              "  </tbody>\n",
              "</table>\n",
              "</div>\n",
              "      <button class=\"colab-df-convert\" onclick=\"convertToInteractive('df-0010c2b5-9b10-41d8-9fbf-6bed9e6ac83a')\"\n",
              "              title=\"Convert this dataframe to an interactive table.\"\n",
              "              style=\"display:none;\">\n",
              "        \n",
              "  <svg xmlns=\"http://www.w3.org/2000/svg\" height=\"24px\"viewBox=\"0 0 24 24\"\n",
              "       width=\"24px\">\n",
              "    <path d=\"M0 0h24v24H0V0z\" fill=\"none\"/>\n",
              "    <path d=\"M18.56 5.44l.94 2.06.94-2.06 2.06-.94-2.06-.94-.94-2.06-.94 2.06-2.06.94zm-11 1L8.5 8.5l.94-2.06 2.06-.94-2.06-.94L8.5 2.5l-.94 2.06-2.06.94zm10 10l.94 2.06.94-2.06 2.06-.94-2.06-.94-.94-2.06-.94 2.06-2.06.94z\"/><path d=\"M17.41 7.96l-1.37-1.37c-.4-.4-.92-.59-1.43-.59-.52 0-1.04.2-1.43.59L10.3 9.45l-7.72 7.72c-.78.78-.78 2.05 0 2.83L4 21.41c.39.39.9.59 1.41.59.51 0 1.02-.2 1.41-.59l7.78-7.78 2.81-2.81c.8-.78.8-2.07 0-2.86zM5.41 20L4 18.59l7.72-7.72 1.47 1.35L5.41 20z\"/>\n",
              "  </svg>\n",
              "      </button>\n",
              "      \n",
              "  <style>\n",
              "    .colab-df-container {\n",
              "      display:flex;\n",
              "      flex-wrap:wrap;\n",
              "      gap: 12px;\n",
              "    }\n",
              "\n",
              "    .colab-df-convert {\n",
              "      background-color: #E8F0FE;\n",
              "      border: none;\n",
              "      border-radius: 50%;\n",
              "      cursor: pointer;\n",
              "      display: none;\n",
              "      fill: #1967D2;\n",
              "      height: 32px;\n",
              "      padding: 0 0 0 0;\n",
              "      width: 32px;\n",
              "    }\n",
              "\n",
              "    .colab-df-convert:hover {\n",
              "      background-color: #E2EBFA;\n",
              "      box-shadow: 0px 1px 2px rgba(60, 64, 67, 0.3), 0px 1px 3px 1px rgba(60, 64, 67, 0.15);\n",
              "      fill: #174EA6;\n",
              "    }\n",
              "\n",
              "    [theme=dark] .colab-df-convert {\n",
              "      background-color: #3B4455;\n",
              "      fill: #D2E3FC;\n",
              "    }\n",
              "\n",
              "    [theme=dark] .colab-df-convert:hover {\n",
              "      background-color: #434B5C;\n",
              "      box-shadow: 0px 1px 3px 1px rgba(0, 0, 0, 0.15);\n",
              "      filter: drop-shadow(0px 1px 2px rgba(0, 0, 0, 0.3));\n",
              "      fill: #FFFFFF;\n",
              "    }\n",
              "  </style>\n",
              "\n",
              "      <script>\n",
              "        const buttonEl =\n",
              "          document.querySelector('#df-0010c2b5-9b10-41d8-9fbf-6bed9e6ac83a button.colab-df-convert');\n",
              "        buttonEl.style.display =\n",
              "          google.colab.kernel.accessAllowed ? 'block' : 'none';\n",
              "\n",
              "        async function convertToInteractive(key) {\n",
              "          const element = document.querySelector('#df-0010c2b5-9b10-41d8-9fbf-6bed9e6ac83a');\n",
              "          const dataTable =\n",
              "            await google.colab.kernel.invokeFunction('convertToInteractive',\n",
              "                                                     [key], {});\n",
              "          if (!dataTable) return;\n",
              "\n",
              "          const docLinkHtml = 'Like what you see? Visit the ' +\n",
              "            '<a target=\"_blank\" href=https://colab.research.google.com/notebooks/data_table.ipynb>data table notebook</a>'\n",
              "            + ' to learn more about interactive tables.';\n",
              "          element.innerHTML = '';\n",
              "          dataTable['output_type'] = 'display_data';\n",
              "          await google.colab.output.renderOutput(dataTable, element);\n",
              "          const docLink = document.createElement('div');\n",
              "          docLink.innerHTML = docLinkHtml;\n",
              "          element.appendChild(docLink);\n",
              "        }\n",
              "      </script>\n",
              "    </div>\n",
              "  </div>\n",
              "  "
            ]
          },
          "metadata": {},
          "execution_count": 31
        }
      ]
    },
    {
      "cell_type": "markdown",
      "source": [
        "### Variables Description "
      ],
      "metadata": {
        "id": "PBTbrJXOngz2"
      }
    },
    {
      "cell_type": "markdown",
      "source": [
        "Here we can see by using describe function we get the statistics of numerical values columns.\n",
        "Here we have mean,count,max ,min ,average,etc."
      ],
      "metadata": {
        "id": "aJV4KIxSnxay"
      }
    },
    {
      "cell_type": "markdown",
      "source": [
        "### Check Unique Values for each variable."
      ],
      "metadata": {
        "id": "u3PMJOP6ngxN"
      }
    },
    {
      "cell_type": "code",
      "source": [
        "# Check Unique Values for each variable.\n",
        "Airbnb_df.nunique()"
      ],
      "metadata": {
        "id": "zms12Yq5n-jE",
        "colab": {
          "base_uri": "https://localhost:8080/"
        },
        "outputId": "0285d625-17f5-448f-86ff-9c7d898fb3c4"
      },
      "execution_count": 14,
      "outputs": [
        {
          "output_type": "execute_result",
          "data": {
            "text/plain": [
              "id                                48895\n",
              "name                              47905\n",
              "host_id                           37457\n",
              "host_name                         11452\n",
              "neighbourhood_group                   5\n",
              "neighbourhood                       221\n",
              "latitude                          19048\n",
              "longitude                         14718\n",
              "room_type                             3\n",
              "price                               674\n",
              "minimum_nights                      109\n",
              "number_of_reviews                   394\n",
              "last_review                        1764\n",
              "reviews_per_month                   937\n",
              "calculated_host_listings_count       47\n",
              "availability_365                    366\n",
              "dtype: int64"
            ]
          },
          "metadata": {},
          "execution_count": 14
        }
      ]
    },
    {
      "cell_type": "markdown",
      "source": [
        "\n",
        "\n",
        "* Here we can see the unique values for each variable.\n",
        "* It is very important to understand and analyze the Unique values, this gives a lot of insight to the data and the user preference for a particular choice. \n",
        "\n"
      ],
      "metadata": {
        "id": "k1u-vuqhVcxd"
      }
    },
    {
      "cell_type": "markdown",
      "source": [
        "## 3. ***Data Wrangling***"
      ],
      "metadata": {
        "id": "dauF4eBmngu3"
      }
    },
    {
      "cell_type": "markdown",
      "source": [
        "### Data Wrangling Code"
      ],
      "metadata": {
        "id": "bKJF3rekwFvQ"
      }
    },
    {
      "cell_type": "code",
      "source": [
        "# Write your code to make your dataset analysis ready.\n",
        "\n",
        "# Removing unnecessary columns\n",
        "Airbnb_df.drop(['id','name','host_name','last_review'] , axis= 'columns' , inplace = True)\n",
        "\n",
        "# Having a look at the data set\n",
        "Airbnb_df.head()"
      ],
      "metadata": {
        "id": "wk-9a2fpoLcV",
        "colab": {
          "base_uri": "https://localhost:8080/",
          "height": 357
        },
        "outputId": "2930b6e9-9cb7-4673-8882-e43f83e46481"
      },
      "execution_count": 32,
      "outputs": [
        {
          "output_type": "execute_result",
          "data": {
            "text/plain": [
              "   host_id neighbourhood_group neighbourhood  latitude  longitude  \\\n",
              "0     2787            Brooklyn    Kensington  40.64749  -73.97237   \n",
              "1     2845           Manhattan       Midtown  40.75362  -73.98377   \n",
              "2     4632           Manhattan        Harlem  40.80902  -73.94190   \n",
              "3     4869            Brooklyn  Clinton Hill  40.68514  -73.95976   \n",
              "4     7192           Manhattan   East Harlem  40.79851  -73.94399   \n",
              "\n",
              "         room_type  price  minimum_nights  number_of_reviews  \\\n",
              "0     Private room    149               1                  9   \n",
              "1  Entire home/apt    225               1                 45   \n",
              "2     Private room    150               3                  0   \n",
              "3  Entire home/apt     89               1                270   \n",
              "4  Entire home/apt     80              10                  9   \n",
              "\n",
              "   reviews_per_month  calculated_host_listings_count  availability_365  \n",
              "0               0.21                               6               365  \n",
              "1               0.38                               2               355  \n",
              "2                NaN                               1               365  \n",
              "3               4.64                               1               194  \n",
              "4               0.10                               1                 0  "
            ],
            "text/html": [
              "\n",
              "  <div id=\"df-d6bfc4c1-afc6-42cb-b770-3963cf03fcdb\">\n",
              "    <div class=\"colab-df-container\">\n",
              "      <div>\n",
              "<style scoped>\n",
              "    .dataframe tbody tr th:only-of-type {\n",
              "        vertical-align: middle;\n",
              "    }\n",
              "\n",
              "    .dataframe tbody tr th {\n",
              "        vertical-align: top;\n",
              "    }\n",
              "\n",
              "    .dataframe thead th {\n",
              "        text-align: right;\n",
              "    }\n",
              "</style>\n",
              "<table border=\"1\" class=\"dataframe\">\n",
              "  <thead>\n",
              "    <tr style=\"text-align: right;\">\n",
              "      <th></th>\n",
              "      <th>host_id</th>\n",
              "      <th>neighbourhood_group</th>\n",
              "      <th>neighbourhood</th>\n",
              "      <th>latitude</th>\n",
              "      <th>longitude</th>\n",
              "      <th>room_type</th>\n",
              "      <th>price</th>\n",
              "      <th>minimum_nights</th>\n",
              "      <th>number_of_reviews</th>\n",
              "      <th>reviews_per_month</th>\n",
              "      <th>calculated_host_listings_count</th>\n",
              "      <th>availability_365</th>\n",
              "    </tr>\n",
              "  </thead>\n",
              "  <tbody>\n",
              "    <tr>\n",
              "      <th>0</th>\n",
              "      <td>2787</td>\n",
              "      <td>Brooklyn</td>\n",
              "      <td>Kensington</td>\n",
              "      <td>40.64749</td>\n",
              "      <td>-73.97237</td>\n",
              "      <td>Private room</td>\n",
              "      <td>149</td>\n",
              "      <td>1</td>\n",
              "      <td>9</td>\n",
              "      <td>0.21</td>\n",
              "      <td>6</td>\n",
              "      <td>365</td>\n",
              "    </tr>\n",
              "    <tr>\n",
              "      <th>1</th>\n",
              "      <td>2845</td>\n",
              "      <td>Manhattan</td>\n",
              "      <td>Midtown</td>\n",
              "      <td>40.75362</td>\n",
              "      <td>-73.98377</td>\n",
              "      <td>Entire home/apt</td>\n",
              "      <td>225</td>\n",
              "      <td>1</td>\n",
              "      <td>45</td>\n",
              "      <td>0.38</td>\n",
              "      <td>2</td>\n",
              "      <td>355</td>\n",
              "    </tr>\n",
              "    <tr>\n",
              "      <th>2</th>\n",
              "      <td>4632</td>\n",
              "      <td>Manhattan</td>\n",
              "      <td>Harlem</td>\n",
              "      <td>40.80902</td>\n",
              "      <td>-73.94190</td>\n",
              "      <td>Private room</td>\n",
              "      <td>150</td>\n",
              "      <td>3</td>\n",
              "      <td>0</td>\n",
              "      <td>NaN</td>\n",
              "      <td>1</td>\n",
              "      <td>365</td>\n",
              "    </tr>\n",
              "    <tr>\n",
              "      <th>3</th>\n",
              "      <td>4869</td>\n",
              "      <td>Brooklyn</td>\n",
              "      <td>Clinton Hill</td>\n",
              "      <td>40.68514</td>\n",
              "      <td>-73.95976</td>\n",
              "      <td>Entire home/apt</td>\n",
              "      <td>89</td>\n",
              "      <td>1</td>\n",
              "      <td>270</td>\n",
              "      <td>4.64</td>\n",
              "      <td>1</td>\n",
              "      <td>194</td>\n",
              "    </tr>\n",
              "    <tr>\n",
              "      <th>4</th>\n",
              "      <td>7192</td>\n",
              "      <td>Manhattan</td>\n",
              "      <td>East Harlem</td>\n",
              "      <td>40.79851</td>\n",
              "      <td>-73.94399</td>\n",
              "      <td>Entire home/apt</td>\n",
              "      <td>80</td>\n",
              "      <td>10</td>\n",
              "      <td>9</td>\n",
              "      <td>0.10</td>\n",
              "      <td>1</td>\n",
              "      <td>0</td>\n",
              "    </tr>\n",
              "  </tbody>\n",
              "</table>\n",
              "</div>\n",
              "      <button class=\"colab-df-convert\" onclick=\"convertToInteractive('df-d6bfc4c1-afc6-42cb-b770-3963cf03fcdb')\"\n",
              "              title=\"Convert this dataframe to an interactive table.\"\n",
              "              style=\"display:none;\">\n",
              "        \n",
              "  <svg xmlns=\"http://www.w3.org/2000/svg\" height=\"24px\"viewBox=\"0 0 24 24\"\n",
              "       width=\"24px\">\n",
              "    <path d=\"M0 0h24v24H0V0z\" fill=\"none\"/>\n",
              "    <path d=\"M18.56 5.44l.94 2.06.94-2.06 2.06-.94-2.06-.94-.94-2.06-.94 2.06-2.06.94zm-11 1L8.5 8.5l.94-2.06 2.06-.94-2.06-.94L8.5 2.5l-.94 2.06-2.06.94zm10 10l.94 2.06.94-2.06 2.06-.94-2.06-.94-.94-2.06-.94 2.06-2.06.94z\"/><path d=\"M17.41 7.96l-1.37-1.37c-.4-.4-.92-.59-1.43-.59-.52 0-1.04.2-1.43.59L10.3 9.45l-7.72 7.72c-.78.78-.78 2.05 0 2.83L4 21.41c.39.39.9.59 1.41.59.51 0 1.02-.2 1.41-.59l7.78-7.78 2.81-2.81c.8-.78.8-2.07 0-2.86zM5.41 20L4 18.59l7.72-7.72 1.47 1.35L5.41 20z\"/>\n",
              "  </svg>\n",
              "      </button>\n",
              "      \n",
              "  <style>\n",
              "    .colab-df-container {\n",
              "      display:flex;\n",
              "      flex-wrap:wrap;\n",
              "      gap: 12px;\n",
              "    }\n",
              "\n",
              "    .colab-df-convert {\n",
              "      background-color: #E8F0FE;\n",
              "      border: none;\n",
              "      border-radius: 50%;\n",
              "      cursor: pointer;\n",
              "      display: none;\n",
              "      fill: #1967D2;\n",
              "      height: 32px;\n",
              "      padding: 0 0 0 0;\n",
              "      width: 32px;\n",
              "    }\n",
              "\n",
              "    .colab-df-convert:hover {\n",
              "      background-color: #E2EBFA;\n",
              "      box-shadow: 0px 1px 2px rgba(60, 64, 67, 0.3), 0px 1px 3px 1px rgba(60, 64, 67, 0.15);\n",
              "      fill: #174EA6;\n",
              "    }\n",
              "\n",
              "    [theme=dark] .colab-df-convert {\n",
              "      background-color: #3B4455;\n",
              "      fill: #D2E3FC;\n",
              "    }\n",
              "\n",
              "    [theme=dark] .colab-df-convert:hover {\n",
              "      background-color: #434B5C;\n",
              "      box-shadow: 0px 1px 3px 1px rgba(0, 0, 0, 0.15);\n",
              "      filter: drop-shadow(0px 1px 2px rgba(0, 0, 0, 0.3));\n",
              "      fill: #FFFFFF;\n",
              "    }\n",
              "  </style>\n",
              "\n",
              "      <script>\n",
              "        const buttonEl =\n",
              "          document.querySelector('#df-d6bfc4c1-afc6-42cb-b770-3963cf03fcdb button.colab-df-convert');\n",
              "        buttonEl.style.display =\n",
              "          google.colab.kernel.accessAllowed ? 'block' : 'none';\n",
              "\n",
              "        async function convertToInteractive(key) {\n",
              "          const element = document.querySelector('#df-d6bfc4c1-afc6-42cb-b770-3963cf03fcdb');\n",
              "          const dataTable =\n",
              "            await google.colab.kernel.invokeFunction('convertToInteractive',\n",
              "                                                     [key], {});\n",
              "          if (!dataTable) return;\n",
              "\n",
              "          const docLinkHtml = 'Like what you see? Visit the ' +\n",
              "            '<a target=\"_blank\" href=https://colab.research.google.com/notebooks/data_table.ipynb>data table notebook</a>'\n",
              "            + ' to learn more about interactive tables.';\n",
              "          element.innerHTML = '';\n",
              "          dataTable['output_type'] = 'display_data';\n",
              "          await google.colab.output.renderOutput(dataTable, element);\n",
              "          const docLink = document.createElement('div');\n",
              "          docLink.innerHTML = docLinkHtml;\n",
              "          element.appendChild(docLink);\n",
              "        }\n",
              "      </script>\n",
              "    </div>\n",
              "  </div>\n",
              "  "
            ]
          },
          "metadata": {},
          "execution_count": 32
        }
      ]
    },
    {
      "cell_type": "code",
      "source": [
        "# Replacing nan values with 0.\n",
        "Airbnb_df['reviews_per_month'].fillna(0, inplace=True)\n",
        "\n",
        "# Having a look at our data set.\n",
        "Airbnb_df.tail(15)"
      ],
      "metadata": {
        "colab": {
          "base_uri": "https://localhost:8080/",
          "height": 844
        },
        "id": "Wcofi3KsfN7D",
        "outputId": "c9b82b80-8619-4a4c-e4a9-0d229a86cebf"
      },
      "execution_count": 35,
      "outputs": [
        {
          "output_type": "execute_result",
          "data": {
            "text/plain": [
              "         host_id neighbourhood_group       neighbourhood  latitude  longitude  \\\n",
              "48880  208514239            Brooklyn        Williamsburg  40.71232  -73.94220   \n",
              "48881  274298453            Brooklyn          Greenpoint  40.72585  -73.94001   \n",
              "48882   66058896            Brooklyn            Bushwick  40.69652  -73.91079   \n",
              "48883  131529729           Manhattan         East Harlem  40.79755  -73.93614   \n",
              "48884  274307600            Brooklyn        Williamsburg  40.71790  -73.96238   \n",
              "48885  131529729           Manhattan         East Harlem  40.79633  -73.93605   \n",
              "48886  274311461           Manhattan             Midtown  40.75561  -73.96723   \n",
              "48887  208514239            Brooklyn        Williamsburg  40.71232  -73.94220   \n",
              "48888  274321313           Manhattan      Hell's Kitchen  40.76392  -73.99183   \n",
              "48889  107716952              Queens             Jamaica  40.69137  -73.80844   \n",
              "48890    8232441            Brooklyn  Bedford-Stuyvesant  40.67853  -73.94995   \n",
              "48891    6570630            Brooklyn            Bushwick  40.70184  -73.93317   \n",
              "48892   23492952           Manhattan              Harlem  40.81475  -73.94867   \n",
              "48893   30985759           Manhattan      Hell's Kitchen  40.75751  -73.99112   \n",
              "48894   68119814           Manhattan      Hell's Kitchen  40.76404  -73.98933   \n",
              "\n",
              "             room_type  price  minimum_nights  number_of_reviews  \\\n",
              "48880  Entire home/apt    120               1                  0   \n",
              "48881     Private room     54               6                  0   \n",
              "48882     Private room     40              20                  0   \n",
              "48883     Private room     75               2                  0   \n",
              "48884     Private room    190               7                  0   \n",
              "48885     Private room     75               2                  0   \n",
              "48886  Entire home/apt    200               6                  0   \n",
              "48887  Entire home/apt    170               1                  0   \n",
              "48888     Private room    125               4                  0   \n",
              "48889     Private room     65               1                  0   \n",
              "48890     Private room     70               2                  0   \n",
              "48891     Private room     40               4                  0   \n",
              "48892  Entire home/apt    115              10                  0   \n",
              "48893      Shared room     55               1                  0   \n",
              "48894     Private room     90               7                  0   \n",
              "\n",
              "       reviews_per_month  calculated_host_listings_count  availability_365  \n",
              "48880                0.0                               3               365  \n",
              "48881                0.0                               1                15  \n",
              "48882                0.0                               1                31  \n",
              "48883                0.0                               2               364  \n",
              "48884                0.0                               1               341  \n",
              "48885                0.0                               2               353  \n",
              "48886                0.0                               1               176  \n",
              "48887                0.0                               3               365  \n",
              "48888                0.0                               1                31  \n",
              "48889                0.0                               2               163  \n",
              "48890                0.0                               2                 9  \n",
              "48891                0.0                               2                36  \n",
              "48892                0.0                               1                27  \n",
              "48893                0.0                               6                 2  \n",
              "48894                0.0                               1                23  "
            ],
            "text/html": [
              "\n",
              "  <div id=\"df-3a09d27c-b202-42ba-93a9-1ac2839fde27\">\n",
              "    <div class=\"colab-df-container\">\n",
              "      <div>\n",
              "<style scoped>\n",
              "    .dataframe tbody tr th:only-of-type {\n",
              "        vertical-align: middle;\n",
              "    }\n",
              "\n",
              "    .dataframe tbody tr th {\n",
              "        vertical-align: top;\n",
              "    }\n",
              "\n",
              "    .dataframe thead th {\n",
              "        text-align: right;\n",
              "    }\n",
              "</style>\n",
              "<table border=\"1\" class=\"dataframe\">\n",
              "  <thead>\n",
              "    <tr style=\"text-align: right;\">\n",
              "      <th></th>\n",
              "      <th>host_id</th>\n",
              "      <th>neighbourhood_group</th>\n",
              "      <th>neighbourhood</th>\n",
              "      <th>latitude</th>\n",
              "      <th>longitude</th>\n",
              "      <th>room_type</th>\n",
              "      <th>price</th>\n",
              "      <th>minimum_nights</th>\n",
              "      <th>number_of_reviews</th>\n",
              "      <th>reviews_per_month</th>\n",
              "      <th>calculated_host_listings_count</th>\n",
              "      <th>availability_365</th>\n",
              "    </tr>\n",
              "  </thead>\n",
              "  <tbody>\n",
              "    <tr>\n",
              "      <th>48880</th>\n",
              "      <td>208514239</td>\n",
              "      <td>Brooklyn</td>\n",
              "      <td>Williamsburg</td>\n",
              "      <td>40.71232</td>\n",
              "      <td>-73.94220</td>\n",
              "      <td>Entire home/apt</td>\n",
              "      <td>120</td>\n",
              "      <td>1</td>\n",
              "      <td>0</td>\n",
              "      <td>0.0</td>\n",
              "      <td>3</td>\n",
              "      <td>365</td>\n",
              "    </tr>\n",
              "    <tr>\n",
              "      <th>48881</th>\n",
              "      <td>274298453</td>\n",
              "      <td>Brooklyn</td>\n",
              "      <td>Greenpoint</td>\n",
              "      <td>40.72585</td>\n",
              "      <td>-73.94001</td>\n",
              "      <td>Private room</td>\n",
              "      <td>54</td>\n",
              "      <td>6</td>\n",
              "      <td>0</td>\n",
              "      <td>0.0</td>\n",
              "      <td>1</td>\n",
              "      <td>15</td>\n",
              "    </tr>\n",
              "    <tr>\n",
              "      <th>48882</th>\n",
              "      <td>66058896</td>\n",
              "      <td>Brooklyn</td>\n",
              "      <td>Bushwick</td>\n",
              "      <td>40.69652</td>\n",
              "      <td>-73.91079</td>\n",
              "      <td>Private room</td>\n",
              "      <td>40</td>\n",
              "      <td>20</td>\n",
              "      <td>0</td>\n",
              "      <td>0.0</td>\n",
              "      <td>1</td>\n",
              "      <td>31</td>\n",
              "    </tr>\n",
              "    <tr>\n",
              "      <th>48883</th>\n",
              "      <td>131529729</td>\n",
              "      <td>Manhattan</td>\n",
              "      <td>East Harlem</td>\n",
              "      <td>40.79755</td>\n",
              "      <td>-73.93614</td>\n",
              "      <td>Private room</td>\n",
              "      <td>75</td>\n",
              "      <td>2</td>\n",
              "      <td>0</td>\n",
              "      <td>0.0</td>\n",
              "      <td>2</td>\n",
              "      <td>364</td>\n",
              "    </tr>\n",
              "    <tr>\n",
              "      <th>48884</th>\n",
              "      <td>274307600</td>\n",
              "      <td>Brooklyn</td>\n",
              "      <td>Williamsburg</td>\n",
              "      <td>40.71790</td>\n",
              "      <td>-73.96238</td>\n",
              "      <td>Private room</td>\n",
              "      <td>190</td>\n",
              "      <td>7</td>\n",
              "      <td>0</td>\n",
              "      <td>0.0</td>\n",
              "      <td>1</td>\n",
              "      <td>341</td>\n",
              "    </tr>\n",
              "    <tr>\n",
              "      <th>48885</th>\n",
              "      <td>131529729</td>\n",
              "      <td>Manhattan</td>\n",
              "      <td>East Harlem</td>\n",
              "      <td>40.79633</td>\n",
              "      <td>-73.93605</td>\n",
              "      <td>Private room</td>\n",
              "      <td>75</td>\n",
              "      <td>2</td>\n",
              "      <td>0</td>\n",
              "      <td>0.0</td>\n",
              "      <td>2</td>\n",
              "      <td>353</td>\n",
              "    </tr>\n",
              "    <tr>\n",
              "      <th>48886</th>\n",
              "      <td>274311461</td>\n",
              "      <td>Manhattan</td>\n",
              "      <td>Midtown</td>\n",
              "      <td>40.75561</td>\n",
              "      <td>-73.96723</td>\n",
              "      <td>Entire home/apt</td>\n",
              "      <td>200</td>\n",
              "      <td>6</td>\n",
              "      <td>0</td>\n",
              "      <td>0.0</td>\n",
              "      <td>1</td>\n",
              "      <td>176</td>\n",
              "    </tr>\n",
              "    <tr>\n",
              "      <th>48887</th>\n",
              "      <td>208514239</td>\n",
              "      <td>Brooklyn</td>\n",
              "      <td>Williamsburg</td>\n",
              "      <td>40.71232</td>\n",
              "      <td>-73.94220</td>\n",
              "      <td>Entire home/apt</td>\n",
              "      <td>170</td>\n",
              "      <td>1</td>\n",
              "      <td>0</td>\n",
              "      <td>0.0</td>\n",
              "      <td>3</td>\n",
              "      <td>365</td>\n",
              "    </tr>\n",
              "    <tr>\n",
              "      <th>48888</th>\n",
              "      <td>274321313</td>\n",
              "      <td>Manhattan</td>\n",
              "      <td>Hell's Kitchen</td>\n",
              "      <td>40.76392</td>\n",
              "      <td>-73.99183</td>\n",
              "      <td>Private room</td>\n",
              "      <td>125</td>\n",
              "      <td>4</td>\n",
              "      <td>0</td>\n",
              "      <td>0.0</td>\n",
              "      <td>1</td>\n",
              "      <td>31</td>\n",
              "    </tr>\n",
              "    <tr>\n",
              "      <th>48889</th>\n",
              "      <td>107716952</td>\n",
              "      <td>Queens</td>\n",
              "      <td>Jamaica</td>\n",
              "      <td>40.69137</td>\n",
              "      <td>-73.80844</td>\n",
              "      <td>Private room</td>\n",
              "      <td>65</td>\n",
              "      <td>1</td>\n",
              "      <td>0</td>\n",
              "      <td>0.0</td>\n",
              "      <td>2</td>\n",
              "      <td>163</td>\n",
              "    </tr>\n",
              "    <tr>\n",
              "      <th>48890</th>\n",
              "      <td>8232441</td>\n",
              "      <td>Brooklyn</td>\n",
              "      <td>Bedford-Stuyvesant</td>\n",
              "      <td>40.67853</td>\n",
              "      <td>-73.94995</td>\n",
              "      <td>Private room</td>\n",
              "      <td>70</td>\n",
              "      <td>2</td>\n",
              "      <td>0</td>\n",
              "      <td>0.0</td>\n",
              "      <td>2</td>\n",
              "      <td>9</td>\n",
              "    </tr>\n",
              "    <tr>\n",
              "      <th>48891</th>\n",
              "      <td>6570630</td>\n",
              "      <td>Brooklyn</td>\n",
              "      <td>Bushwick</td>\n",
              "      <td>40.70184</td>\n",
              "      <td>-73.93317</td>\n",
              "      <td>Private room</td>\n",
              "      <td>40</td>\n",
              "      <td>4</td>\n",
              "      <td>0</td>\n",
              "      <td>0.0</td>\n",
              "      <td>2</td>\n",
              "      <td>36</td>\n",
              "    </tr>\n",
              "    <tr>\n",
              "      <th>48892</th>\n",
              "      <td>23492952</td>\n",
              "      <td>Manhattan</td>\n",
              "      <td>Harlem</td>\n",
              "      <td>40.81475</td>\n",
              "      <td>-73.94867</td>\n",
              "      <td>Entire home/apt</td>\n",
              "      <td>115</td>\n",
              "      <td>10</td>\n",
              "      <td>0</td>\n",
              "      <td>0.0</td>\n",
              "      <td>1</td>\n",
              "      <td>27</td>\n",
              "    </tr>\n",
              "    <tr>\n",
              "      <th>48893</th>\n",
              "      <td>30985759</td>\n",
              "      <td>Manhattan</td>\n",
              "      <td>Hell's Kitchen</td>\n",
              "      <td>40.75751</td>\n",
              "      <td>-73.99112</td>\n",
              "      <td>Shared room</td>\n",
              "      <td>55</td>\n",
              "      <td>1</td>\n",
              "      <td>0</td>\n",
              "      <td>0.0</td>\n",
              "      <td>6</td>\n",
              "      <td>2</td>\n",
              "    </tr>\n",
              "    <tr>\n",
              "      <th>48894</th>\n",
              "      <td>68119814</td>\n",
              "      <td>Manhattan</td>\n",
              "      <td>Hell's Kitchen</td>\n",
              "      <td>40.76404</td>\n",
              "      <td>-73.98933</td>\n",
              "      <td>Private room</td>\n",
              "      <td>90</td>\n",
              "      <td>7</td>\n",
              "      <td>0</td>\n",
              "      <td>0.0</td>\n",
              "      <td>1</td>\n",
              "      <td>23</td>\n",
              "    </tr>\n",
              "  </tbody>\n",
              "</table>\n",
              "</div>\n",
              "      <button class=\"colab-df-convert\" onclick=\"convertToInteractive('df-3a09d27c-b202-42ba-93a9-1ac2839fde27')\"\n",
              "              title=\"Convert this dataframe to an interactive table.\"\n",
              "              style=\"display:none;\">\n",
              "        \n",
              "  <svg xmlns=\"http://www.w3.org/2000/svg\" height=\"24px\"viewBox=\"0 0 24 24\"\n",
              "       width=\"24px\">\n",
              "    <path d=\"M0 0h24v24H0V0z\" fill=\"none\"/>\n",
              "    <path d=\"M18.56 5.44l.94 2.06.94-2.06 2.06-.94-2.06-.94-.94-2.06-.94 2.06-2.06.94zm-11 1L8.5 8.5l.94-2.06 2.06-.94-2.06-.94L8.5 2.5l-.94 2.06-2.06.94zm10 10l.94 2.06.94-2.06 2.06-.94-2.06-.94-.94-2.06-.94 2.06-2.06.94z\"/><path d=\"M17.41 7.96l-1.37-1.37c-.4-.4-.92-.59-1.43-.59-.52 0-1.04.2-1.43.59L10.3 9.45l-7.72 7.72c-.78.78-.78 2.05 0 2.83L4 21.41c.39.39.9.59 1.41.59.51 0 1.02-.2 1.41-.59l7.78-7.78 2.81-2.81c.8-.78.8-2.07 0-2.86zM5.41 20L4 18.59l7.72-7.72 1.47 1.35L5.41 20z\"/>\n",
              "  </svg>\n",
              "      </button>\n",
              "      \n",
              "  <style>\n",
              "    .colab-df-container {\n",
              "      display:flex;\n",
              "      flex-wrap:wrap;\n",
              "      gap: 12px;\n",
              "    }\n",
              "\n",
              "    .colab-df-convert {\n",
              "      background-color: #E8F0FE;\n",
              "      border: none;\n",
              "      border-radius: 50%;\n",
              "      cursor: pointer;\n",
              "      display: none;\n",
              "      fill: #1967D2;\n",
              "      height: 32px;\n",
              "      padding: 0 0 0 0;\n",
              "      width: 32px;\n",
              "    }\n",
              "\n",
              "    .colab-df-convert:hover {\n",
              "      background-color: #E2EBFA;\n",
              "      box-shadow: 0px 1px 2px rgba(60, 64, 67, 0.3), 0px 1px 3px 1px rgba(60, 64, 67, 0.15);\n",
              "      fill: #174EA6;\n",
              "    }\n",
              "\n",
              "    [theme=dark] .colab-df-convert {\n",
              "      background-color: #3B4455;\n",
              "      fill: #D2E3FC;\n",
              "    }\n",
              "\n",
              "    [theme=dark] .colab-df-convert:hover {\n",
              "      background-color: #434B5C;\n",
              "      box-shadow: 0px 1px 3px 1px rgba(0, 0, 0, 0.15);\n",
              "      filter: drop-shadow(0px 1px 2px rgba(0, 0, 0, 0.3));\n",
              "      fill: #FFFFFF;\n",
              "    }\n",
              "  </style>\n",
              "\n",
              "      <script>\n",
              "        const buttonEl =\n",
              "          document.querySelector('#df-3a09d27c-b202-42ba-93a9-1ac2839fde27 button.colab-df-convert');\n",
              "        buttonEl.style.display =\n",
              "          google.colab.kernel.accessAllowed ? 'block' : 'none';\n",
              "\n",
              "        async function convertToInteractive(key) {\n",
              "          const element = document.querySelector('#df-3a09d27c-b202-42ba-93a9-1ac2839fde27');\n",
              "          const dataTable =\n",
              "            await google.colab.kernel.invokeFunction('convertToInteractive',\n",
              "                                                     [key], {});\n",
              "          if (!dataTable) return;\n",
              "\n",
              "          const docLinkHtml = 'Like what you see? Visit the ' +\n",
              "            '<a target=\"_blank\" href=https://colab.research.google.com/notebooks/data_table.ipynb>data table notebook</a>'\n",
              "            + ' to learn more about interactive tables.';\n",
              "          element.innerHTML = '';\n",
              "          dataTable['output_type'] = 'display_data';\n",
              "          await google.colab.output.renderOutput(dataTable, element);\n",
              "          const docLink = document.createElement('div');\n",
              "          docLink.innerHTML = docLinkHtml;\n",
              "          element.appendChild(docLink);\n",
              "        }\n",
              "      </script>\n",
              "    </div>\n",
              "  </div>\n",
              "  "
            ]
          },
          "metadata": {},
          "execution_count": 35
        }
      ]
    },
    {
      "cell_type": "markdown",
      "source": [
        "### What all manipulations have you done and insights you found?"
      ],
      "metadata": {
        "id": "MSa1f5Uengrz"
      }
    },
    {
      "cell_type": "markdown",
      "source": [
        "To make ou data analysis ready we have done some manipulations.\n",
        "\n",
        "*  First we have removed some columns like id,name ,host name,last review to make further operations easy which we are going to do on our data set.\n",
        "*  Then we replace our missing values to 0 to handle any exception or errors.\n",
        " \n",
        " It make or data more clean and prepared for further operations. \n",
        "\n",
        "\n",
        "\n",
        "\n"
      ],
      "metadata": {
        "id": "LbyXE7I1olp8"
      }
    },
    {
      "cell_type": "markdown",
      "source": [
        "## ***4. Data Vizualization, Storytelling & Experimenting with charts : Understand the relationships between variables***"
      ],
      "metadata": {
        "id": "GF8Ens_Soomf"
      }
    },
    {
      "cell_type": "markdown",
      "source": [
        "#### Chart - 1"
      ],
      "metadata": {
        "id": "0wOQAZs5pc--"
      }
    },
    {
      "cell_type": "code",
      "source": [
        "# Chart - 1 visualization code"
      ],
      "metadata": {
        "id": "7v_ESjsspbW7"
      },
      "execution_count": null,
      "outputs": []
    },
    {
      "cell_type": "markdown",
      "source": [
        "##### 1. Why did you pick the specific chart?"
      ],
      "metadata": {
        "id": "K5QZ13OEpz2H"
      }
    },
    {
      "cell_type": "markdown",
      "source": [
        "Answer Here."
      ],
      "metadata": {
        "id": "XESiWehPqBRc"
      }
    },
    {
      "cell_type": "markdown",
      "source": [
        "##### 2. What is/are the insight(s) found from the chart?"
      ],
      "metadata": {
        "id": "lQ7QKXXCp7Bj"
      }
    },
    {
      "cell_type": "markdown",
      "source": [
        "Answer Here"
      ],
      "metadata": {
        "id": "C_j1G7yiqdRP"
      }
    },
    {
      "cell_type": "markdown",
      "source": [
        "##### 3. Will the gained insights help creating a positive business impact? \n",
        "Are there any insights that lead to negative growth? Justify with specific reason."
      ],
      "metadata": {
        "id": "448CDAPjqfQr"
      }
    },
    {
      "cell_type": "markdown",
      "source": [
        "Answer Here"
      ],
      "metadata": {
        "id": "3cspy4FjqxJW"
      }
    },
    {
      "cell_type": "markdown",
      "source": [
        "#### Chart - 2"
      ],
      "metadata": {
        "id": "KSlN3yHqYklG"
      }
    },
    {
      "cell_type": "code",
      "source": [
        "# Chart - 2 visualization code"
      ],
      "metadata": {
        "id": "R4YgtaqtYklH"
      },
      "execution_count": null,
      "outputs": []
    },
    {
      "cell_type": "markdown",
      "source": [
        "##### 1. Why did you pick the specific chart?"
      ],
      "metadata": {
        "id": "t6dVpIINYklI"
      }
    },
    {
      "cell_type": "markdown",
      "source": [
        "Answer Here."
      ],
      "metadata": {
        "id": "5aaW0BYyYklI"
      }
    },
    {
      "cell_type": "markdown",
      "source": [
        "##### 2. What is/are the insight(s) found from the chart?"
      ],
      "metadata": {
        "id": "ijmpgYnKYklI"
      }
    },
    {
      "cell_type": "markdown",
      "source": [
        "Answer Here"
      ],
      "metadata": {
        "id": "PSx9atu2YklI"
      }
    },
    {
      "cell_type": "markdown",
      "source": [
        "##### 3. Will the gained insights help creating a positive business impact? \n",
        "Are there any insights that lead to negative growth? Justify with specific reason."
      ],
      "metadata": {
        "id": "-JiQyfWJYklI"
      }
    },
    {
      "cell_type": "markdown",
      "source": [
        "Answer Here"
      ],
      "metadata": {
        "id": "BcBbebzrYklV"
      }
    },
    {
      "cell_type": "markdown",
      "source": [
        "#### Chart - 3"
      ],
      "metadata": {
        "id": "EM7whBJCYoAo"
      }
    },
    {
      "cell_type": "code",
      "source": [
        "# Chart - 3 visualization code"
      ],
      "metadata": {
        "id": "t6GMdE67YoAp"
      },
      "execution_count": null,
      "outputs": []
    },
    {
      "cell_type": "markdown",
      "source": [
        "##### 1. Why did you pick the specific chart?"
      ],
      "metadata": {
        "id": "fge-S5ZAYoAp"
      }
    },
    {
      "cell_type": "markdown",
      "source": [
        "Answer Here."
      ],
      "metadata": {
        "id": "5dBItgRVYoAp"
      }
    },
    {
      "cell_type": "markdown",
      "source": [
        "##### 2. What is/are the insight(s) found from the chart?"
      ],
      "metadata": {
        "id": "85gYPyotYoAp"
      }
    },
    {
      "cell_type": "markdown",
      "source": [
        "Answer Here"
      ],
      "metadata": {
        "id": "4jstXR6OYoAp"
      }
    },
    {
      "cell_type": "markdown",
      "source": [
        "##### 3. Will the gained insights help creating a positive business impact? \n",
        "Are there any insights that lead to negative growth? Justify with specific reason."
      ],
      "metadata": {
        "id": "RoGjAbkUYoAp"
      }
    },
    {
      "cell_type": "markdown",
      "source": [
        "Answer Here"
      ],
      "metadata": {
        "id": "zfJ8IqMcYoAp"
      }
    },
    {
      "cell_type": "markdown",
      "source": [
        "#### Chart - 4"
      ],
      "metadata": {
        "id": "4Of9eVA-YrdM"
      }
    },
    {
      "cell_type": "code",
      "source": [
        "# Chart - 4 visualization code"
      ],
      "metadata": {
        "id": "irlUoxc8YrdO"
      },
      "execution_count": null,
      "outputs": []
    },
    {
      "cell_type": "markdown",
      "source": [
        "##### 1. Why did you pick the specific chart?"
      ],
      "metadata": {
        "id": "iky9q4vBYrdO"
      }
    },
    {
      "cell_type": "markdown",
      "source": [
        "Answer Here."
      ],
      "metadata": {
        "id": "aJRCwT6DYrdO"
      }
    },
    {
      "cell_type": "markdown",
      "source": [
        "##### 2. What is/are the insight(s) found from the chart?"
      ],
      "metadata": {
        "id": "F6T5p64dYrdO"
      }
    },
    {
      "cell_type": "markdown",
      "source": [
        "Answer Here"
      ],
      "metadata": {
        "id": "Xx8WAJvtYrdO"
      }
    },
    {
      "cell_type": "markdown",
      "source": [
        "##### 3. Will the gained insights help creating a positive business impact? \n",
        "Are there any insights that lead to negative growth? Justify with specific reason."
      ],
      "metadata": {
        "id": "y-Ehk30pYrdP"
      }
    },
    {
      "cell_type": "markdown",
      "source": [
        "Answer Here"
      ],
      "metadata": {
        "id": "jLNxxz7MYrdP"
      }
    },
    {
      "cell_type": "markdown",
      "source": [
        "#### Chart - 5"
      ],
      "metadata": {
        "id": "bamQiAODYuh1"
      }
    },
    {
      "cell_type": "code",
      "source": [
        "# Chart - 5 visualization code"
      ],
      "metadata": {
        "id": "TIJwrbroYuh3"
      },
      "execution_count": null,
      "outputs": []
    },
    {
      "cell_type": "markdown",
      "source": [
        "##### 1. Why did you pick the specific chart?"
      ],
      "metadata": {
        "id": "QHF8YVU7Yuh3"
      }
    },
    {
      "cell_type": "markdown",
      "source": [
        "Answer Here."
      ],
      "metadata": {
        "id": "dcxuIMRPYuh3"
      }
    },
    {
      "cell_type": "markdown",
      "source": [
        "##### 2. What is/are the insight(s) found from the chart?"
      ],
      "metadata": {
        "id": "GwzvFGzlYuh3"
      }
    },
    {
      "cell_type": "markdown",
      "source": [
        "Answer Here"
      ],
      "metadata": {
        "id": "uyqkiB8YYuh3"
      }
    },
    {
      "cell_type": "markdown",
      "source": [
        "##### 3. Will the gained insights help creating a positive business impact? \n",
        "Are there any insights that lead to negative growth? Justify with specific reason."
      ],
      "metadata": {
        "id": "qYpmQ266Yuh3"
      }
    },
    {
      "cell_type": "markdown",
      "source": [
        "Answer Here"
      ],
      "metadata": {
        "id": "_WtzZ_hCYuh4"
      }
    },
    {
      "cell_type": "markdown",
      "source": [
        "#### Chart - 6"
      ],
      "metadata": {
        "id": "OH-pJp9IphqM"
      }
    },
    {
      "cell_type": "code",
      "source": [
        "# Chart - 6 visualization code"
      ],
      "metadata": {
        "id": "kuRf4wtuphqN"
      },
      "execution_count": null,
      "outputs": []
    },
    {
      "cell_type": "markdown",
      "source": [
        "##### 1. Why did you pick the specific chart?"
      ],
      "metadata": {
        "id": "bbFf2-_FphqN"
      }
    },
    {
      "cell_type": "markdown",
      "source": [
        "Answer Here."
      ],
      "metadata": {
        "id": "loh7H2nzphqN"
      }
    },
    {
      "cell_type": "markdown",
      "source": [
        "##### 2. What is/are the insight(s) found from the chart?"
      ],
      "metadata": {
        "id": "_ouA3fa0phqN"
      }
    },
    {
      "cell_type": "markdown",
      "source": [
        "Answer Here"
      ],
      "metadata": {
        "id": "VECbqPI7phqN"
      }
    },
    {
      "cell_type": "markdown",
      "source": [
        "##### 3. Will the gained insights help creating a positive business impact? \n",
        "Are there any insights that lead to negative growth? Justify with specific reason."
      ],
      "metadata": {
        "id": "Seke61FWphqN"
      }
    },
    {
      "cell_type": "markdown",
      "source": [
        "Answer Here"
      ],
      "metadata": {
        "id": "DW4_bGpfphqN"
      }
    },
    {
      "cell_type": "markdown",
      "source": [
        "#### Chart - 7"
      ],
      "metadata": {
        "id": "PIIx-8_IphqN"
      }
    },
    {
      "cell_type": "code",
      "source": [
        "# Chart - 7 visualization code"
      ],
      "metadata": {
        "id": "lqAIGUfyphqO"
      },
      "execution_count": null,
      "outputs": []
    },
    {
      "cell_type": "markdown",
      "source": [
        "##### 1. Why did you pick the specific chart?"
      ],
      "metadata": {
        "id": "t27r6nlMphqO"
      }
    },
    {
      "cell_type": "markdown",
      "source": [
        "Answer Here."
      ],
      "metadata": {
        "id": "iv6ro40sphqO"
      }
    },
    {
      "cell_type": "markdown",
      "source": [
        "##### 2. What is/are the insight(s) found from the chart?"
      ],
      "metadata": {
        "id": "r2jJGEOYphqO"
      }
    },
    {
      "cell_type": "markdown",
      "source": [
        "Answer Here"
      ],
      "metadata": {
        "id": "Po6ZPi4hphqO"
      }
    },
    {
      "cell_type": "markdown",
      "source": [
        "##### 3. Will the gained insights help creating a positive business impact? \n",
        "Are there any insights that lead to negative growth? Justify with specific reason."
      ],
      "metadata": {
        "id": "b0JNsNcRphqO"
      }
    },
    {
      "cell_type": "markdown",
      "source": [
        "Answer Here"
      ],
      "metadata": {
        "id": "xvSq8iUTphqO"
      }
    },
    {
      "cell_type": "markdown",
      "source": [
        "#### Chart - 8"
      ],
      "metadata": {
        "id": "BZR9WyysphqO"
      }
    },
    {
      "cell_type": "code",
      "source": [
        "# Chart - 8 visualization code"
      ],
      "metadata": {
        "id": "TdPTWpAVphqO"
      },
      "execution_count": null,
      "outputs": []
    },
    {
      "cell_type": "markdown",
      "source": [
        "##### 1. Why did you pick the specific chart?"
      ],
      "metadata": {
        "id": "jj7wYXLtphqO"
      }
    },
    {
      "cell_type": "markdown",
      "source": [
        "Answer Here."
      ],
      "metadata": {
        "id": "Ob8u6rCTphqO"
      }
    },
    {
      "cell_type": "markdown",
      "source": [
        "##### 2. What is/are the insight(s) found from the chart?"
      ],
      "metadata": {
        "id": "eZrbJ2SmphqO"
      }
    },
    {
      "cell_type": "markdown",
      "source": [
        "Answer Here"
      ],
      "metadata": {
        "id": "mZtgC_hjphqO"
      }
    },
    {
      "cell_type": "markdown",
      "source": [
        "##### 3. Will the gained insights help creating a positive business impact? \n",
        "Are there any insights that lead to negative growth? Justify with specific reason."
      ],
      "metadata": {
        "id": "rFu4xreNphqO"
      }
    },
    {
      "cell_type": "markdown",
      "source": [
        "Answer Here"
      ],
      "metadata": {
        "id": "ey_0qi68phqO"
      }
    },
    {
      "cell_type": "markdown",
      "source": [
        "#### Chart - 9"
      ],
      "metadata": {
        "id": "YJ55k-q6phqO"
      }
    },
    {
      "cell_type": "code",
      "source": [
        "# Chart - 9 visualization code"
      ],
      "metadata": {
        "id": "B2aS4O1ophqO"
      },
      "execution_count": null,
      "outputs": []
    },
    {
      "cell_type": "markdown",
      "source": [
        "##### 1. Why did you pick the specific chart?"
      ],
      "metadata": {
        "id": "gCFgpxoyphqP"
      }
    },
    {
      "cell_type": "markdown",
      "source": [
        "Answer Here."
      ],
      "metadata": {
        "id": "TVxDimi2phqP"
      }
    },
    {
      "cell_type": "markdown",
      "source": [
        "##### 2. What is/are the insight(s) found from the chart?"
      ],
      "metadata": {
        "id": "OVtJsKN_phqQ"
      }
    },
    {
      "cell_type": "markdown",
      "source": [
        "Answer Here"
      ],
      "metadata": {
        "id": "ngGi97qjphqQ"
      }
    },
    {
      "cell_type": "markdown",
      "source": [
        "##### 3. Will the gained insights help creating a positive business impact? \n",
        "Are there any insights that lead to negative growth? Justify with specific reason."
      ],
      "metadata": {
        "id": "lssrdh5qphqQ"
      }
    },
    {
      "cell_type": "markdown",
      "source": [
        "Answer Here"
      ],
      "metadata": {
        "id": "tBpY5ekJphqQ"
      }
    },
    {
      "cell_type": "markdown",
      "source": [
        "#### Chart - 10"
      ],
      "metadata": {
        "id": "U2RJ9gkRphqQ"
      }
    },
    {
      "cell_type": "code",
      "source": [
        "# Chart - 10 visualization code"
      ],
      "metadata": {
        "id": "GM7a4YP4phqQ"
      },
      "execution_count": null,
      "outputs": []
    },
    {
      "cell_type": "markdown",
      "source": [
        "##### 1. Why did you pick the specific chart?"
      ],
      "metadata": {
        "id": "1M8mcRywphqQ"
      }
    },
    {
      "cell_type": "markdown",
      "source": [
        "Answer Here."
      ],
      "metadata": {
        "id": "8agQvks0phqQ"
      }
    },
    {
      "cell_type": "markdown",
      "source": [
        "##### 2. What is/are the insight(s) found from the chart?"
      ],
      "metadata": {
        "id": "tgIPom80phqQ"
      }
    },
    {
      "cell_type": "markdown",
      "source": [
        "Answer Here"
      ],
      "metadata": {
        "id": "Qp13pnNzphqQ"
      }
    },
    {
      "cell_type": "markdown",
      "source": [
        "##### 3. Will the gained insights help creating a positive business impact? \n",
        "Are there any insights that lead to negative growth? Justify with specific reason."
      ],
      "metadata": {
        "id": "JMzcOPDDphqR"
      }
    },
    {
      "cell_type": "markdown",
      "source": [
        "Answer Here"
      ],
      "metadata": {
        "id": "R4Ka1PC2phqR"
      }
    },
    {
      "cell_type": "markdown",
      "source": [
        "#### Chart - 11"
      ],
      "metadata": {
        "id": "x-EpHcCOp1ci"
      }
    },
    {
      "cell_type": "code",
      "source": [
        "# Chart - 11 visualization code"
      ],
      "metadata": {
        "id": "mAQTIvtqp1cj"
      },
      "execution_count": null,
      "outputs": []
    },
    {
      "cell_type": "markdown",
      "source": [
        "##### 1. Why did you pick the specific chart?"
      ],
      "metadata": {
        "id": "X_VqEhTip1ck"
      }
    },
    {
      "cell_type": "markdown",
      "source": [
        "Answer Here."
      ],
      "metadata": {
        "id": "-vsMzt_np1ck"
      }
    },
    {
      "cell_type": "markdown",
      "source": [
        "##### 2. What is/are the insight(s) found from the chart?"
      ],
      "metadata": {
        "id": "8zGJKyg5p1ck"
      }
    },
    {
      "cell_type": "markdown",
      "source": [
        "Answer Here"
      ],
      "metadata": {
        "id": "ZYdMsrqVp1ck"
      }
    },
    {
      "cell_type": "markdown",
      "source": [
        "##### 3. Will the gained insights help creating a positive business impact? \n",
        "Are there any insights that lead to negative growth? Justify with specific reason."
      ],
      "metadata": {
        "id": "PVzmfK_Ep1ck"
      }
    },
    {
      "cell_type": "markdown",
      "source": [
        "Answer Here"
      ],
      "metadata": {
        "id": "druuKYZpp1ck"
      }
    },
    {
      "cell_type": "markdown",
      "source": [
        "#### Chart - 12"
      ],
      "metadata": {
        "id": "n3dbpmDWp1ck"
      }
    },
    {
      "cell_type": "code",
      "source": [
        "# Chart - 12 visualization code"
      ],
      "metadata": {
        "id": "bwevp1tKp1ck"
      },
      "execution_count": null,
      "outputs": []
    },
    {
      "cell_type": "markdown",
      "source": [
        "##### 1. Why did you pick the specific chart?"
      ],
      "metadata": {
        "id": "ylSl6qgtp1ck"
      }
    },
    {
      "cell_type": "markdown",
      "source": [
        "Answer Here."
      ],
      "metadata": {
        "id": "m2xqNkiQp1ck"
      }
    },
    {
      "cell_type": "markdown",
      "source": [
        "##### 2. What is/are the insight(s) found from the chart?"
      ],
      "metadata": {
        "id": "ZWILFDl5p1ck"
      }
    },
    {
      "cell_type": "markdown",
      "source": [
        "Answer Here"
      ],
      "metadata": {
        "id": "x-lUsV2mp1ck"
      }
    },
    {
      "cell_type": "markdown",
      "source": [
        "##### 3. Will the gained insights help creating a positive business impact? \n",
        "Are there any insights that lead to negative growth? Justify with specific reason."
      ],
      "metadata": {
        "id": "M7G43BXep1ck"
      }
    },
    {
      "cell_type": "markdown",
      "source": [
        "Answer Here"
      ],
      "metadata": {
        "id": "5wwDJXsLp1cl"
      }
    },
    {
      "cell_type": "markdown",
      "source": [
        "#### Chart - 13"
      ],
      "metadata": {
        "id": "Ag9LCva-p1cl"
      }
    },
    {
      "cell_type": "code",
      "source": [
        "# Chart - 13 visualization code"
      ],
      "metadata": {
        "id": "EUfxeq9-p1cl"
      },
      "execution_count": null,
      "outputs": []
    },
    {
      "cell_type": "markdown",
      "source": [
        "##### 1. Why did you pick the specific chart?"
      ],
      "metadata": {
        "id": "E6MkPsBcp1cl"
      }
    },
    {
      "cell_type": "markdown",
      "source": [
        "Answer Here."
      ],
      "metadata": {
        "id": "V22bRsFWp1cl"
      }
    },
    {
      "cell_type": "markdown",
      "source": [
        "##### 2. What is/are the insight(s) found from the chart?"
      ],
      "metadata": {
        "id": "2cELzS2fp1cl"
      }
    },
    {
      "cell_type": "markdown",
      "source": [
        "Answer Here"
      ],
      "metadata": {
        "id": "ozQPc2_Ip1cl"
      }
    },
    {
      "cell_type": "markdown",
      "source": [
        "##### 3. Will the gained insights help creating a positive business impact? \n",
        "Are there any insights that lead to negative growth? Justify with specific reason."
      ],
      "metadata": {
        "id": "3MPXvC8up1cl"
      }
    },
    {
      "cell_type": "markdown",
      "source": [
        "Answer Here"
      ],
      "metadata": {
        "id": "GL8l1tdLp1cl"
      }
    },
    {
      "cell_type": "markdown",
      "source": [
        "#### Chart - 14 - Correlation Heatmap"
      ],
      "metadata": {
        "id": "NC_X3p0fY2L0"
      }
    },
    {
      "cell_type": "code",
      "source": [
        "# Correlation Heatmap visualization code"
      ],
      "metadata": {
        "id": "xyC9zolEZNRQ"
      },
      "execution_count": null,
      "outputs": []
    },
    {
      "cell_type": "markdown",
      "source": [
        "##### 1. Why did you pick the specific chart?"
      ],
      "metadata": {
        "id": "UV0SzAkaZNRQ"
      }
    },
    {
      "cell_type": "markdown",
      "source": [
        "Answer Here."
      ],
      "metadata": {
        "id": "DVPuT8LYZNRQ"
      }
    },
    {
      "cell_type": "markdown",
      "source": [
        "##### 2. What is/are the insight(s) found from the chart?"
      ],
      "metadata": {
        "id": "YPEH6qLeZNRQ"
      }
    },
    {
      "cell_type": "markdown",
      "source": [
        "Answer Here"
      ],
      "metadata": {
        "id": "bfSqtnDqZNRR"
      }
    },
    {
      "cell_type": "markdown",
      "source": [
        "#### Chart - 15 - Pair Plot "
      ],
      "metadata": {
        "id": "q29F0dvdveiT"
      }
    },
    {
      "cell_type": "code",
      "source": [
        "# Pair Plot visualization code"
      ],
      "metadata": {
        "id": "o58-TEIhveiU"
      },
      "execution_count": null,
      "outputs": []
    },
    {
      "cell_type": "markdown",
      "source": [
        "##### 1. Why did you pick the specific chart?"
      ],
      "metadata": {
        "id": "EXh0U9oCveiU"
      }
    },
    {
      "cell_type": "markdown",
      "source": [
        "Answer Here."
      ],
      "metadata": {
        "id": "eMmPjTByveiU"
      }
    },
    {
      "cell_type": "markdown",
      "source": [
        "##### 2. What is/are the insight(s) found from the chart?"
      ],
      "metadata": {
        "id": "22aHeOlLveiV"
      }
    },
    {
      "cell_type": "markdown",
      "source": [
        "Answer Here"
      ],
      "metadata": {
        "id": "uPQ8RGwHveiV"
      }
    },
    {
      "cell_type": "markdown",
      "source": [
        "## **5. Solution to Business Objective**"
      ],
      "metadata": {
        "id": "JcMwzZxoAimU"
      }
    },
    {
      "cell_type": "markdown",
      "source": [
        "#### What do you suggest the client to achieve Business Objective ? \n",
        "Explain Briefly."
      ],
      "metadata": {
        "id": "8G2x9gOozGDZ"
      }
    },
    {
      "cell_type": "markdown",
      "source": [
        "Answer Here."
      ],
      "metadata": {
        "id": "pASKb0qOza21"
      }
    },
    {
      "cell_type": "markdown",
      "source": [],
      "metadata": {
        "id": "tbGc329sSjzb"
      }
    },
    {
      "cell_type": "markdown",
      "source": [
        "# **Conclusion**"
      ],
      "metadata": {
        "id": "gCX9965dhzqZ"
      }
    },
    {
      "cell_type": "markdown",
      "source": [
        "Write the conclusion here."
      ],
      "metadata": {
        "id": "Fjb1IsQkh3yE"
      }
    },
    {
      "cell_type": "markdown",
      "source": [
        "### ***Hurrah! You have successfully completed your EDA Capstone Project !!!***"
      ],
      "metadata": {
        "id": "gIfDvo9L0UH2"
      }
    }
  ]
}